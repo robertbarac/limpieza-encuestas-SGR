{
 "cells": [
  {
   "cell_type": "code",
   "execution_count": 1,
   "metadata": {},
   "outputs": [],
   "source": [
    "import pandas as pd\n",
    "import numpy as np\n",
    "import matplotlib.pyplot as plt\n",
    "import seaborn as sns"
   ]
  },
  {
   "cell_type": "code",
   "execution_count": 143,
   "metadata": {},
   "outputs": [],
   "source": [
    "df_combined = pd.read_excel('data/df_combined.xlsx', sheet_name='Sheet1')"
   ]
  },
  {
   "cell_type": "code",
   "execution_count": 144,
   "metadata": {},
   "outputs": [
    {
     "data": {
      "text/plain": [
       "array(['CÓDIGO', 'ZONA', 'LUGAR DE MUESTREO', 'NOMBRE', 'IDENTIFICACIÓN',\n",
       "       'LUGAR DE EXPEDICIÒN DEL DOCUMENTO ', 'TELÉFONO', 'DIRECCIÓN',\n",
       "       'EDAD', 'SEXO M(1) F (2)', 'LUGAR DONDE RESIDE',\n",
       "       'DEPARTAMENTO/MUNICIPIO', 'ESTRATO', 'AREA ',\n",
       "       'HACE CUANTO TIEMPO VIVE EN ESE LUGAR',\n",
       "       'CUANTAS PERSONAS COMPONEN SU HOGAR', 'GRUPO POBLACIONAL ',\n",
       "       'TIPO DE USUARIO EN EL SGSSS', 'ESTADO CIVIL', 'ESCOLARIDAD',\n",
       "       'LE HAN HECHO ENCUESTAS DE SISBEN ',\n",
       "       'EN QUE NIVEL LO CALIFICARON ', 'DONDE VIVIA ANTERIORMENTE ',\n",
       "       'RAZONES POR LAS QUE SE MUDO ', 'OFICIO ACTUAL',\n",
       "       'TIEMPO QUE LLEVA LABORANDO EN SU OFICIO ACTUAL',\n",
       "       'OFICIOS DESEMPEÑADOS ANTERIORMENTE',\n",
       "       'USTED O ALGÚN MIEMBRO DE SU FAMILIA REALIZA QUEMA DE AMALGAMA EN CASA',\n",
       "       'USTED O ALGÚN MIEMBRO DE SU FAMILIA QUE VIVA CON USTED ALMACENA MERCURIO EN CASA',\n",
       "       'A QUE DISTANCIA SE ENCUENTRA UBICADA SU CASA DE LA COMPRAVENTA DE ORO O EL SITIO DONDE SE QUEMA LA AMALGAMA'],\n",
       "      dtype=object)"
      ]
     },
     "execution_count": 144,
     "metadata": {},
     "output_type": "execute_result"
    }
   ],
   "source": [
    "df_combined.columns.values"
   ]
  },
  {
   "cell_type": "markdown",
   "metadata": {},
   "source": [
    "## Separando en zonas para limpieza e imputación de datos"
   ]
  },
  {
   "cell_type": "code",
   "execution_count": 145,
   "metadata": {},
   "outputs": [],
   "source": [
    "zona_cartagena = df_combined[df_combined['ZONA'] == 'CARTAGENA']\n",
    "zona_san_martin = df_combined[df_combined['ZONA'] != 'CARTAGENA']"
   ]
  },
  {
   "cell_type": "markdown",
   "metadata": {},
   "source": [
    "## Zona San Martín"
   ]
  },
  {
   "cell_type": "markdown",
   "metadata": {},
   "source": [
    "### Eliminar encuesta MH-SM-039"
   ]
  },
  {
   "cell_type": "code",
   "execution_count": 146,
   "metadata": {},
   "outputs": [
    {
     "name": "stderr",
     "output_type": "stream",
     "text": [
      "/tmp/ipykernel_9046/3648358530.py:2: SettingWithCopyWarning: \n",
      "A value is trying to be set on a copy of a slice from a DataFrame.\n",
      "Try using .loc[row_indexer,col_indexer] = value instead\n",
      "\n",
      "See the caveats in the documentation: https://pandas.pydata.org/pandas-docs/stable/user_guide/indexing.html#returning-a-view-versus-a-copy\n",
      "  zona_san_martin['SEXO M(1) F (2)'] = zona_san_martin['SEXO M(1) F (2)'].replace('F', 2)\n"
     ]
    }
   ],
   "source": [
    "# Convertir 'F' a 2 en la columna 'SEXO M(1) F (2)'\n",
    "zona_san_martin['SEXO M(1) F (2)'] = zona_san_martin['SEXO M(1) F (2)'].replace('F', 2)\n",
    "\n",
    "# Borrar la fila con código MH-SM-039\n",
    "zona_san_martin = zona_san_martin[zona_san_martin['CÓDIGO'] != 'MH-SM-039']"
   ]
  },
  {
   "cell_type": "markdown",
   "metadata": {},
   "source": [
    "### Imputación"
   ]
  },
  {
   "cell_type": "code",
   "execution_count": 147,
   "metadata": {},
   "outputs": [],
   "source": [
    "# Cambiar 'F' por 2 en la columna 'SEXO M(1) F (2)'\n",
    "zona_san_martin['SEXO M(1) F (2)'] = zona_san_martin['SEXO M(1) F (2)'].replace('F', 2)\n",
    "\n",
    "# Reemplazar 'VENDEDOR DE PESCADO' por 'PESCADOR'\n",
    "zona_san_martin['OFICIO ACTUAL'] = zona_san_martin['OFICIO ACTUAL'].replace('VENDEDOR PESCADO', 'PESCADOR')\n",
    "\n",
    "# Cambiar 'EN QUE NIVEL LO CALIFICARON ' de 'A' a 'A1'\n",
    "zona_san_martin['EN QUE NIVEL LO CALIFICARON '] = zona_san_martin['EN QUE NIVEL LO CALIFICARON '].replace('A', 'A1')\n",
    "\n",
    "# Cambiar 'RAZONES POR LAS QUE SE MUDO ' de 'NO APLICA' a 0\n",
    "zona_san_martin['RAZONES POR LAS QUE SE MUDO '] = zona_san_martin['RAZONES POR LAS QUE SE MUDO '].replace('NO APLICA', 0)\n",
    "\n",
    "# Reemplazar '2-QUEMAN EN LA MINA' por 1 en la columna 'USTED O ALGÚN MIEMBRO DE SU FAMILIA REALIZA QUEMA DE AMALGAMA EN CASA'\n",
    "zona_san_martin['USTED O ALGÚN MIEMBRO DE SU FAMILIA REALIZA QUEMA DE AMALGAMA EN CASA'] = zona_san_martin['USTED O ALGÚN MIEMBRO DE SU FAMILIA REALIZA QUEMA DE AMALGAMA EN CASA'].replace('2-QUEMAN EN LA MINA', 1)\n",
    "\n",
    "# Reemplazar el valor específico en la columna 'OFICIO ACTUAL'\n",
    "zona_san_martin.loc[zona_san_martin['OFICIOS DESEMPEÑADOS ANTERIORMENTE'] == 'DOCENTE (2016) LABORATORIO DONDE MANIPULÓ MERCURIO (20 AÑOS)', 'OFICIO ACTUAL'] = 'MINERÍA'\n",
    "\n",
    "# Cambiar 'HACE CUANTO TIEMPO VIVE EN ESE LUGAR' a entero\n",
    "zona_san_martin['HACE CUANTO TIEMPO VIVE EN ESE LUGAR'] = zona_san_martin['HACE CUANTO TIEMPO VIVE EN ESE LUGAR'].astype(int)\n",
    "\n",
    "# Cambiar 'EDAD' a entero\n",
    "zona_san_martin['EDAD'] = zona_san_martin['EDAD'].astype(int)\n",
    "\n",
    "# Reemplazar NaN por 'No tuvo trabajo previo' en la columna 'OFICIOS DESEMPEÑADOS ANTERIORMENTE'\n",
    "zona_san_martin['OFICIOS DESEMPEÑADOS ANTERIORMENTE'].fillna('No tuvo trabajo previo', inplace=True)\n",
    "\n",
    "# Crear una copia explícita del DataFrame\n",
    "zona_san_martin_copy = zona_san_martin.copy()\n",
    "\n",
    "# Reemplazar NaN por 'No tuvo trabajo previo' en la columna 'OFICIOS DESEMPEÑADOS ANTERIORMENTE'\n",
    "zona_san_martin_copy['OFICIOS DESEMPEÑADOS ANTERIORMENTE'].fillna('No tuvo trabajo previo', inplace=True)\n",
    "\n",
    "# Ahora asignar la copia de vuelta al DataFrame original\n",
    "zona_san_martin['OFICIOS DESEMPEÑADOS ANTERIORMENTE'] = zona_san_martin_copy['OFICIOS DESEMPEÑADOS ANTERIORMENTE']\n",
    "\n",
    "zona_san_martin['ESTADO CIVIL'].replace(0, 5, inplace=True)"
   ]
  },
  {
   "cell_type": "markdown",
   "metadata": {},
   "source": [
    "## Ahora a limpiar zona_cartagena"
   ]
  },
  {
   "cell_type": "code",
   "execution_count": 148,
   "metadata": {},
   "outputs": [
    {
     "data": {
      "text/plain": [
       "array(['CÓDIGO', 'ZONA', 'LUGAR DE MUESTREO', 'NOMBRE', 'IDENTIFICACIÓN',\n",
       "       'LUGAR DE EXPEDICIÒN DEL DOCUMENTO ', 'TELÉFONO', 'DIRECCIÓN',\n",
       "       'EDAD', 'SEXO M(1) F (2)', 'LUGAR DONDE RESIDE',\n",
       "       'DEPARTAMENTO/MUNICIPIO', 'ESTRATO', 'AREA ',\n",
       "       'HACE CUANTO TIEMPO VIVE EN ESE LUGAR',\n",
       "       'CUANTAS PERSONAS COMPONEN SU HOGAR', 'GRUPO POBLACIONAL ',\n",
       "       'TIPO DE USUARIO EN EL SGSSS', 'ESTADO CIVIL', 'ESCOLARIDAD',\n",
       "       'LE HAN HECHO ENCUESTAS DE SISBEN ',\n",
       "       'EN QUE NIVEL LO CALIFICARON ', 'DONDE VIVIA ANTERIORMENTE ',\n",
       "       'RAZONES POR LAS QUE SE MUDO ', 'OFICIO ACTUAL',\n",
       "       'TIEMPO QUE LLEVA LABORANDO EN SU OFICIO ACTUAL',\n",
       "       'OFICIOS DESEMPEÑADOS ANTERIORMENTE',\n",
       "       'USTED O ALGÚN MIEMBRO DE SU FAMILIA REALIZA QUEMA DE AMALGAMA EN CASA',\n",
       "       'USTED O ALGÚN MIEMBRO DE SU FAMILIA QUE VIVA CON USTED ALMACENA MERCURIO EN CASA',\n",
       "       'A QUE DISTANCIA SE ENCUENTRA UBICADA SU CASA DE LA COMPRAVENTA DE ORO O EL SITIO DONDE SE QUEMA LA AMALGAMA'],\n",
       "      dtype=object)"
      ]
     },
     "execution_count": 148,
     "metadata": {},
     "output_type": "execute_result"
    }
   ],
   "source": [
    "zona_cartagena.columns.values"
   ]
  },
  {
   "cell_type": "code",
   "execution_count": 149,
   "metadata": {},
   "outputs": [
    {
     "name": "stderr",
     "output_type": "stream",
     "text": [
      "/tmp/ipykernel_9046/3365794711.py:4: SettingWithCopyWarning: \n",
      "A value is trying to be set on a copy of a slice from a DataFrame\n",
      "\n",
      "See the caveats in the documentation: https://pandas.pydata.org/pandas-docs/stable/user_guide/indexing.html#returning-a-view-versus-a-copy\n",
      "  zona_cartagena['CUANTAS PERSONAS COMPONEN SU HOGAR'].replace(0, 6, inplace=True)\n",
      "/tmp/ipykernel_9046/3365794711.py:7: SettingWithCopyWarning: \n",
      "A value is trying to be set on a copy of a slice from a DataFrame\n",
      "\n",
      "See the caveats in the documentation: https://pandas.pydata.org/pandas-docs/stable/user_guide/indexing.html#returning-a-view-versus-a-copy\n",
      "  zona_cartagena['ESCOLARIDAD'].replace(0, zona_cartagena['ESCOLARIDAD'].mode().iloc[0], inplace=True)\n",
      "/tmp/ipykernel_9046/3365794711.py:10: SettingWithCopyWarning: \n",
      "A value is trying to be set on a copy of a slice from a DataFrame.\n",
      "Try using .loc[row_indexer,col_indexer] = value instead\n",
      "\n",
      "See the caveats in the documentation: https://pandas.pydata.org/pandas-docs/stable/user_guide/indexing.html#returning-a-view-versus-a-copy\n",
      "  zona_cartagena['EN QUE NIVEL LO CALIFICARON '] = zona_cartagena['EN QUE NIVEL LO CALIFICARON '].replace(0, zona_cartagena['EN QUE NIVEL LO CALIFICARON '].mode().iloc[0])\n",
      "/tmp/ipykernel_9046/3365794711.py:12: SettingWithCopyWarning: \n",
      "A value is trying to be set on a copy of a slice from a DataFrame.\n",
      "Try using .loc[row_indexer,col_indexer] = value instead\n",
      "\n",
      "See the caveats in the documentation: https://pandas.pydata.org/pandas-docs/stable/user_guide/indexing.html#returning-a-view-versus-a-copy\n",
      "  zona_cartagena['EN QUE NIVEL LO CALIFICARON '] = zona_cartagena['EN QUE NIVEL LO CALIFICARON '].replace('NO SABE', zona_cartagena['EN QUE NIVEL LO CALIFICARON '].mode().iloc[0])\n",
      "/tmp/ipykernel_9046/3365794711.py:15: SettingWithCopyWarning: \n",
      "A value is trying to be set on a copy of a slice from a DataFrame.\n",
      "Try using .loc[row_indexer,col_indexer] = value instead\n",
      "\n",
      "See the caveats in the documentation: https://pandas.pydata.org/pandas-docs/stable/user_guide/indexing.html#returning-a-view-versus-a-copy\n",
      "  zona_cartagena['OFICIO ACTUAL'] = zona_cartagena['OFICIO ACTUAL'].replace('VENDEDORA DE PESCADO', 'PESCADOR')\n",
      "/tmp/ipykernel_9046/3365794711.py:18: SettingWithCopyWarning: \n",
      "A value is trying to be set on a copy of a slice from a DataFrame.\n",
      "Try using .loc[row_indexer,col_indexer] = value instead\n",
      "\n",
      "See the caveats in the documentation: https://pandas.pydata.org/pandas-docs/stable/user_guide/indexing.html#returning-a-view-versus-a-copy\n",
      "  zona_cartagena['OFICIO ACTUAL'] = zona_cartagena['OFICIO ACTUAL'].replace('PESACADOR', 'PESCADOR')\n",
      "/tmp/ipykernel_9046/3365794711.py:21: SettingWithCopyWarning: \n",
      "A value is trying to be set on a copy of a slice from a DataFrame.\n",
      "Try using .loc[row_indexer,col_indexer] = value instead\n",
      "\n",
      "See the caveats in the documentation: https://pandas.pydata.org/pandas-docs/stable/user_guide/indexing.html#returning-a-view-versus-a-copy\n",
      "  zona_cartagena['OFICIO ACTUAL'] = zona_cartagena['OFICIO ACTUAL'].replace({0: 'NO ESPECIFICA', None: 'NO ESPECIFICA'})\n",
      "/tmp/ipykernel_9046/3365794711.py:24: SettingWithCopyWarning: \n",
      "A value is trying to be set on a copy of a slice from a DataFrame.\n",
      "Try using .loc[row_indexer,col_indexer] = value instead\n",
      "\n",
      "See the caveats in the documentation: https://pandas.pydata.org/pandas-docs/stable/user_guide/indexing.html#returning-a-view-versus-a-copy\n",
      "  zona_cartagena['OFICIO ACTUAL'] = zona_cartagena['OFICIO ACTUAL'].replace('AUXILIAR SERVICIOS GENERALES', 'SERVICIOS GENERALES')\n",
      "/tmp/ipykernel_9046/3365794711.py:27: SettingWithCopyWarning: \n",
      "A value is trying to be set on a copy of a slice from a DataFrame.\n",
      "Try using .loc[row_indexer,col_indexer] = value instead\n",
      "\n",
      "See the caveats in the documentation: https://pandas.pydata.org/pandas-docs/stable/user_guide/indexing.html#returning-a-view-versus-a-copy\n",
      "  zona_cartagena['OFICIO ACTUAL'] = zona_cartagena['OFICIO ACTUAL'].replace('JEFE SERVICIOS GENERALES', 'SERVICIOS GENERALES')\n"
     ]
    }
   ],
   "source": [
    "# Calcular la moda\n",
    "moda_cuantas_personas = zona_cartagena['CUANTAS PERSONAS COMPONEN SU HOGAR'].mode().iloc[0]\n",
    "# Reemplazar 0 por la moda en la columna 'CUANTAS PERSONAS COMPONEN SU HOGAR'\n",
    "zona_cartagena['CUANTAS PERSONAS COMPONEN SU HOGAR'].replace(0, 6, inplace=True)\n",
    "\n",
    "# cambiar 0 por la moda de escolaridad\n",
    "zona_cartagena['ESCOLARIDAD'].replace(0, zona_cartagena['ESCOLARIDAD'].mode().iloc[0], inplace=True)\n",
    "\n",
    "# Reemplazar el valor 0 por la moda en 'EN QUE NIVEL LO CALIFICARON '\n",
    "zona_cartagena['EN QUE NIVEL LO CALIFICARON '] = zona_cartagena['EN QUE NIVEL LO CALIFICARON '].replace(0, zona_cartagena['EN QUE NIVEL LO CALIFICARON '].mode().iloc[0])\n",
    "# Reemplazar 'NO SABE' por la moda en 'EN QUE NIVEL LO CALIFICARON '\n",
    "zona_cartagena['EN QUE NIVEL LO CALIFICARON '] = zona_cartagena['EN QUE NIVEL LO CALIFICARON '].replace('NO SABE', zona_cartagena['EN QUE NIVEL LO CALIFICARON '].mode().iloc[0])\n",
    "\n",
    "# Reemplazar 'VENDEDORA DE PESCADO' por 'PESCADOR'\n",
    "zona_cartagena['OFICIO ACTUAL'] = zona_cartagena['OFICIO ACTUAL'].replace('VENDEDORA DE PESCADO', 'PESCADOR')\n",
    "\n",
    "# Reemplazar 'PESACADOR' por 'PESCADOR'\n",
    "zona_cartagena['OFICIO ACTUAL'] = zona_cartagena['OFICIO ACTUAL'].replace('PESACADOR', 'PESCADOR')\n",
    "\n",
    "# Reemplazar 0 y nulo por 'NO ESPECIFICA'\n",
    "zona_cartagena['OFICIO ACTUAL'] = zona_cartagena['OFICIO ACTUAL'].replace({0: 'NO ESPECIFICA', None: 'NO ESPECIFICA'})\n",
    "\n",
    "# Cambiar 'AUXILIAR SERVICIOS GENERALES' por 'SERVICIOS GENERALES'\n",
    "zona_cartagena['OFICIO ACTUAL'] = zona_cartagena['OFICIO ACTUAL'].replace('AUXILIAR SERVICIOS GENERALES', 'SERVICIOS GENERALES')\n",
    "\n",
    "# Cambiar 'JEFE SERVICIOS GENERALES' por 'SERVICIOS GENERALES'\n",
    "zona_cartagena['OFICIO ACTUAL'] = zona_cartagena['OFICIO ACTUAL'].replace('JEFE SERVICIOS GENERALES', 'SERVICIOS GENERALES')"
   ]
  },
  {
   "cell_type": "markdown",
   "metadata": {},
   "source": [
    "## Concatenando dataframes de zonas."
   ]
  },
  {
   "cell_type": "code",
   "execution_count": 150,
   "metadata": {},
   "outputs": [],
   "source": [
    "# Concatenar los DataFrames zona_san_martin y zona_cartagena\n",
    "df_combined_new = pd.concat([zona_san_martin, zona_cartagena], ignore_index=True)"
   ]
  },
  {
   "cell_type": "markdown",
   "metadata": {},
   "source": [
    "## Guardado de dataframe en Excel"
   ]
  },
  {
   "cell_type": "code",
   "execution_count": 151,
   "metadata": {},
   "outputs": [],
   "source": [
    "df_combined_new.to_excel('data/combinado.xlsx', sheet_name='INFORMACIÓN GENERAL')"
   ]
  },
  {
   "cell_type": "code",
   "execution_count": null,
   "metadata": {},
   "outputs": [],
   "source": []
  }
 ],
 "metadata": {
  "kernelspec": {
   "display_name": "mlflow-env",
   "language": "python",
   "name": "python3"
  },
  "language_info": {
   "codemirror_mode": {
    "name": "ipython",
    "version": 3
   },
   "file_extension": ".py",
   "mimetype": "text/x-python",
   "name": "python",
   "nbconvert_exporter": "python",
   "pygments_lexer": "ipython3",
   "version": "3.9.17"
  }
 },
 "nbformat": 4,
 "nbformat_minor": 2
}
