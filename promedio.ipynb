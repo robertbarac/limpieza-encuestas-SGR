{
 "cells": [
  {
   "cell_type": "code",
   "execution_count": 1,
   "metadata": {},
   "outputs": [],
   "source": [
    "import pandas as pd\n",
    "import numpy as np"
   ]
  },
  {
   "cell_type": "code",
   "execution_count": 3,
   "metadata": {},
   "outputs": [],
   "source": [
    "df = pd.read_excel(\"data/PCBs_28 compuestos.xlsx\", sheet_name='Cuantificacion PCBs Muestras ')"
   ]
  },
  {
   "cell_type": "code",
   "execution_count": 4,
   "metadata": {},
   "outputs": [],
   "source": [
    "df['2-FLUOROBIPHENYL'] = df['2-FLUOROBIPHENYL'].fillna(0)"
   ]
  },
  {
   "cell_type": "code",
   "execution_count": 5,
   "metadata": {},
   "outputs": [
    {
     "data": {
      "text/plain": [
       "array([0.00000000e+00, 8.35410600e+06, 6.11547000e+05, 3.66951000e+05,\n",
       "       1.59688100e+06, 1.62474800e+06, 4.89777000e+05, 2.94165300e+06,\n",
       "       1.22418000e+07, 1.06138390e+07, 2.05299000e+06, 3.32118900e+06,\n",
       "       4.96235400e+06, 7.29569500e+06, 1.23456000e+05, 4.43270000e+06,\n",
       "       4.04220000e+04, 2.79000000e+02, 2.93430000e+04, 8.94300000e+03,\n",
       "       1.12830000e+04, 1.73040000e+04, 4.91700000e+03, 1.99040000e+04,\n",
       "       1.42180000e+04, 4.92800000e+03, 3.15680000e+04, 5.87600000e+03,\n",
       "       7.51900000e+03, 1.43810000e+04, 9.79400000e+03, 4.19700000e+03,\n",
       "       1.24100000e+03, 9.94000000e+02, 5.45000000e+02, 9.66000000e+02,\n",
       "       8.36000000e+02, 5.44000000e+02, 4.32000000e+02, 3.52000000e+02,\n",
       "       6.83000000e+02, 3.67000000e+02, 4.05000000e+02, 1.33000000e+02,\n",
       "       1.37000000e+02, 2.22000000e+02, 4.56000000e+02, 2.58000000e+02,\n",
       "       1.59000000e+02, 3.44000000e+02, 2.31000000e+02, 9.28623200e+06,\n",
       "       2.26192700e+06, 1.12482129e+08, 4.57433300e+06, 3.68928370e+07,\n",
       "       6.00335970e+07, 2.09172740e+07, 4.54663020e+07, 2.44632120e+07,\n",
       "       1.93351690e+07, 2.37379580e+07, 3.39066514e+09, 2.72283566e+09,\n",
       "       9.27995300e+06, 2.47282459e+09, 2.72873572e+09, 2.06872597e+09,\n",
       "       2.63046214e+09, 2.16845005e+09, 2.02744609e+09, 2.23450925e+09,\n",
       "       2.58745252e+09, 2.47881015e+09, 8.78744304e+09, 1.80076152e+09,\n",
       "       1.45189687e+09, 1.67680476e+09, 1.77657037e+09, 1.46011290e+09,\n",
       "       1.51849314e+09, 1.59022620e+09, 2.16783169e+09, 1.14960163e+09,\n",
       "       1.62631678e+09, 1.50264939e+09, 1.68354250e+09, 1.33063453e+09,\n",
       "       1.24276766e+09])"
      ]
     },
     "execution_count": 5,
     "metadata": {},
     "output_type": "execute_result"
    }
   ],
   "source": [
    "df['2-FLUOROBIPHENYL'].unique()"
   ]
  },
  {
   "cell_type": "code",
   "execution_count": 6,
   "metadata": {},
   "outputs": [],
   "source": [
    "# Contar la cantidad total de elementos diferentes de 0\n",
    "total_no_zero = (df['2-FLUOROBIPHENYL'] != 0).sum()"
   ]
  },
  {
   "cell_type": "code",
   "execution_count": 7,
   "metadata": {},
   "outputs": [
    {
     "data": {
      "text/plain": [
       "89"
      ]
     },
     "execution_count": 7,
     "metadata": {},
     "output_type": "execute_result"
    }
   ],
   "source": [
    "total_no_zero"
   ]
  },
  {
   "cell_type": "code",
   "execution_count": 8,
   "metadata": {},
   "outputs": [
    {
     "data": {
      "text/plain": [
       "58706565391.0"
      ]
     },
     "execution_count": 8,
     "metadata": {},
     "output_type": "execute_result"
    }
   ],
   "source": [
    "# Sumar los valores no nulos\n",
    "suma_no_zero = df['2-FLUOROBIPHENYL'][df['2-FLUOROBIPHENYL'] != 0].sum()\n",
    "suma_no_zero"
   ]
  },
  {
   "cell_type": "code",
   "execution_count": 9,
   "metadata": {},
   "outputs": [
    {
     "data": {
      "text/plain": [
       "659624330.235955"
      ]
     },
     "execution_count": 9,
     "metadata": {},
     "output_type": "execute_result"
    }
   ],
   "source": [
    "promedio = suma_no_zero/total_no_zero\n",
    "promedio"
   ]
  },
  {
   "cell_type": "code",
   "execution_count": null,
   "metadata": {},
   "outputs": [],
   "source": []
  }
 ],
 "metadata": {
  "kernelspec": {
   "display_name": "mlflow-env",
   "language": "python",
   "name": "python3"
  },
  "language_info": {
   "codemirror_mode": {
    "name": "ipython",
    "version": 3
   },
   "file_extension": ".py",
   "mimetype": "text/x-python",
   "name": "python",
   "nbconvert_exporter": "python",
   "pygments_lexer": "ipython3",
   "version": "3.9.17"
  }
 },
 "nbformat": 4,
 "nbformat_minor": 2
}
