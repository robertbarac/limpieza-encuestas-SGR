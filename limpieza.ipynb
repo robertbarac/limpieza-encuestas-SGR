{
 "cells": [
  {
   "cell_type": "code",
   "execution_count": 1,
   "metadata": {},
   "outputs": [],
   "source": [
    "import pandas as pd\n",
    "import numpy as np\n",
    "import matplotlib.pyplot as plt\n",
    "import seaborn as sns"
   ]
  },
  {
   "cell_type": "code",
   "execution_count": 109,
   "metadata": {},
   "outputs": [],
   "source": [
    "from math import trunc"
   ]
  },
  {
   "cell_type": "code",
   "execution_count": 2,
   "metadata": {},
   "outputs": [],
   "source": [
    "pd.set_option('display.max_columns', None)"
   ]
  },
  {
   "cell_type": "code",
   "execution_count": 3,
   "metadata": {},
   "outputs": [],
   "source": [
    "pd.options.display.max_columns"
   ]
  },
  {
   "cell_type": "code",
   "execution_count": 185,
   "metadata": {},
   "outputs": [],
   "source": [
    "df_SM190_a_SMBL255 = pd.read_excel('data/ENCUESTAS SM-190_A_SM-239_Y_SM-BL-240_SM-BL-255.xlsx', sheet_name='INFORMACIÓN GENERAL')\n",
    "df_UC = pd.read_excel('data/ENCUESTAS MH-UC-001 A 222.xlsx', sheet_name='INFORMACIÓN GENERAL (2)')\n",
    "df_SM001_A_SM189 = pd.read_excel('data/ANEXO 6 - ENCUESTAS SML-2022 CORREGIDAS (1).xlsx', sheet_name='INFORMACIÓN GENERAL (2)')"
   ]
  },
  {
   "cell_type": "code",
   "execution_count": 186,
   "metadata": {},
   "outputs": [
    {
     "data": {
      "text/html": [
       "<div>\n",
       "<style scoped>\n",
       "    .dataframe tbody tr th:only-of-type {\n",
       "        vertical-align: middle;\n",
       "    }\n",
       "\n",
       "    .dataframe tbody tr th {\n",
       "        vertical-align: top;\n",
       "    }\n",
       "\n",
       "    .dataframe thead th {\n",
       "        text-align: right;\n",
       "    }\n",
       "</style>\n",
       "<table border=\"1\" class=\"dataframe\">\n",
       "  <thead>\n",
       "    <tr style=\"text-align: right;\">\n",
       "      <th></th>\n",
       "      <th>CÓDIGO</th>\n",
       "      <th>NOMBRE</th>\n",
       "      <th>IDENTIFICACIÓN</th>\n",
       "      <th>LUGAR DE EXPEDICIÒN DEL DOCUMENTO</th>\n",
       "      <th>TELÉFONO</th>\n",
       "      <th>DIRECCIÓN</th>\n",
       "      <th>EDAD</th>\n",
       "      <th>SEXO M(1) F (2)</th>\n",
       "      <th>LUGAR DONDE RESIDE</th>\n",
       "      <th>DEPARTAMENTO/MUNICIPIO</th>\n",
       "      <th>ESTRATO</th>\n",
       "      <th>AREA</th>\n",
       "      <th>HACE CUANTO TIEMPO VIVE EN ESE LUGAR</th>\n",
       "      <th>CUANTAS PERSONAS COMPONEN SU HOGAR</th>\n",
       "      <th>GRUPO POBLACIONAL</th>\n",
       "      <th>TIPO DE USUARIO EN EL SGSSS</th>\n",
       "      <th>ESTADO CIVIL</th>\n",
       "      <th>ESCOLARIDAD</th>\n",
       "      <th>LE HAN HECHO ENCUESTAS DE SISBEN</th>\n",
       "      <th>EN QUE NIVEL LO CALIFICARON</th>\n",
       "      <th>DONDE VIVIA ANTERIORMENTE</th>\n",
       "      <th>RAZONES POR LAS QUE SE MUDO</th>\n",
       "      <th>OFICIO ACTUAL</th>\n",
       "      <th>TIEMPO QUE LLEVA LABORANDO EN SU OFICIO ACTUAL</th>\n",
       "      <th>OFICIOS DESEMPEÑADOS ANTERIORMENTE</th>\n",
       "      <th>USTED O ALGÚN MIEMBRO DE SU FAMILIA REALIZA QUEMA DE AMALGAMA EN CASA</th>\n",
       "      <th>USTED O ALGÚN MIEMBRO DE SU FAMILIA QUE VIVA CON USTED ALMACENA MERCURIO EN CASA</th>\n",
       "      <th>A QUE DISTANCIA SE ENCUENTRA UBICADA SU CASA DE LA COMPRAVENTA DE ORO O EL SITIO DONDE SE QUEMA LA AMALGAMA</th>\n",
       "    </tr>\n",
       "  </thead>\n",
       "  <tbody>\n",
       "    <tr>\n",
       "      <th>0</th>\n",
       "      <td>MH-SM-190</td>\n",
       "      <td>LUIS ALBERTO JIMÉNEZ RICO</td>\n",
       "      <td>1.052243e+09</td>\n",
       "      <td>NaN</td>\n",
       "      <td>3002266202</td>\n",
       "      <td>Puerto de chimí - calle esperanza</td>\n",
       "      <td>17.0</td>\n",
       "      <td>1</td>\n",
       "      <td>SAN MARTÍN DE LOBA</td>\n",
       "      <td>BOLÍVAR-SAN MARTÍN DE LOBA</td>\n",
       "      <td>NaN</td>\n",
       "      <td>1.0</td>\n",
       "      <td>17</td>\n",
       "      <td>5.0</td>\n",
       "      <td>NaN</td>\n",
       "      <td>2.0</td>\n",
       "      <td>5.0</td>\n",
       "      <td>2.0</td>\n",
       "      <td>1.0</td>\n",
       "      <td>A1</td>\n",
       "      <td>NaN</td>\n",
       "      <td>NaN</td>\n",
       "      <td>MOTOTAXISTA</td>\n",
       "      <td>1</td>\n",
       "      <td>JHONSON</td>\n",
       "      <td>2</td>\n",
       "      <td>2.0</td>\n",
       "      <td>4</td>\n",
       "    </tr>\n",
       "    <tr>\n",
       "      <th>1</th>\n",
       "      <td>MH-SM-191</td>\n",
       "      <td>DÁMASO JOSÉ LAGUNA ZAMBRANO</td>\n",
       "      <td>9.142642e+07</td>\n",
       "      <td>BARRANCABERMEJA</td>\n",
       "      <td>3169344658</td>\n",
       "      <td>NaN</td>\n",
       "      <td>58.0</td>\n",
       "      <td>1</td>\n",
       "      <td>SAN MARTÍN DE LOBA</td>\n",
       "      <td>BOLÍVAR-SAN MARTÍN DE LOBA</td>\n",
       "      <td>1.0</td>\n",
       "      <td>1.0</td>\n",
       "      <td>10</td>\n",
       "      <td>4.0</td>\n",
       "      <td>NaN</td>\n",
       "      <td>2.0</td>\n",
       "      <td>5.0</td>\n",
       "      <td>1.0</td>\n",
       "      <td>1.0</td>\n",
       "      <td>NO SABE</td>\n",
       "      <td>4</td>\n",
       "      <td>12</td>\n",
       "      <td>SURTIDOR DE AGUA - RECOLECTOR DE BASURA</td>\n",
       "      <td>12</td>\n",
       "      <td>PLOMERÍA-CONSTRUCCIÓN-MINERÍA</td>\n",
       "      <td>2</td>\n",
       "      <td>2.0</td>\n",
       "      <td>4</td>\n",
       "    </tr>\n",
       "    <tr>\n",
       "      <th>2</th>\n",
       "      <td>MH-SM-192</td>\n",
       "      <td>WILINTON ROBLES CAMARGO</td>\n",
       "      <td>7.354154e+06</td>\n",
       "      <td>SAN MARTÍN DE LOBA</td>\n",
       "      <td>3134905765</td>\n",
       "      <td>CALLE CENTRAL CHIMI</td>\n",
       "      <td>39.0</td>\n",
       "      <td>1</td>\n",
       "      <td>SAN MARTÍN DE LOBA</td>\n",
       "      <td>BOLÍVAR-SAN MARTÍN DE LOBA</td>\n",
       "      <td>1.0</td>\n",
       "      <td>2.0</td>\n",
       "      <td>NaN</td>\n",
       "      <td>4.0</td>\n",
       "      <td>NaN</td>\n",
       "      <td>1.0</td>\n",
       "      <td>1.0</td>\n",
       "      <td>2.0</td>\n",
       "      <td>1.0</td>\n",
       "      <td>NaN</td>\n",
       "      <td>4</td>\n",
       "      <td>13</td>\n",
       "      <td>FONTANERÍA-COMERCIANTE</td>\n",
       "      <td>21</td>\n",
       "      <td>NaN</td>\n",
       "      <td>1</td>\n",
       "      <td>1.0</td>\n",
       "      <td>4</td>\n",
       "    </tr>\n",
       "    <tr>\n",
       "      <th>3</th>\n",
       "      <td>MH-SM-193</td>\n",
       "      <td>ANA JOCEFA PICO ALBEAR</td>\n",
       "      <td>2.310956e+07</td>\n",
       "      <td>SAN MARTÍN DE LOBA</td>\n",
       "      <td>3002266202</td>\n",
       "      <td>CALLE LA ESPERANZA</td>\n",
       "      <td>38.0</td>\n",
       "      <td>2</td>\n",
       "      <td>SAN MARTÍN DE LOBA</td>\n",
       "      <td>BOLÍVAR-SAN MARTÍN DE LOBA</td>\n",
       "      <td>1.0</td>\n",
       "      <td>2.0</td>\n",
       "      <td>38</td>\n",
       "      <td>7.0</td>\n",
       "      <td>NaN</td>\n",
       "      <td>2.0</td>\n",
       "      <td>5.0</td>\n",
       "      <td>4.0</td>\n",
       "      <td>1.0</td>\n",
       "      <td>A1</td>\n",
       "      <td>NO APLICA</td>\n",
       "      <td>NaN</td>\n",
       "      <td>CASA DE FAMILIA</td>\n",
       "      <td>23</td>\n",
       "      <td>NaN</td>\n",
       "      <td>2</td>\n",
       "      <td>2.0</td>\n",
       "      <td>4</td>\n",
       "    </tr>\n",
       "    <tr>\n",
       "      <th>4</th>\n",
       "      <td>MH-SM-194</td>\n",
       "      <td>JESÚS ALBERTO LAGUNA NIETO</td>\n",
       "      <td>1.050067e+09</td>\n",
       "      <td>SAN MARTÍN DE LOBA</td>\n",
       "      <td>3215918426</td>\n",
       "      <td>SANTA INÉS</td>\n",
       "      <td>30.0</td>\n",
       "      <td>1</td>\n",
       "      <td>SAN MARTÍN DE LOBA</td>\n",
       "      <td>BOLÍVAR-SAN MARTÍN DE LOBA</td>\n",
       "      <td>1.0</td>\n",
       "      <td>1.0</td>\n",
       "      <td>4</td>\n",
       "      <td>3.0</td>\n",
       "      <td>NaN</td>\n",
       "      <td>2.0</td>\n",
       "      <td>2.0</td>\n",
       "      <td>3.0</td>\n",
       "      <td>1.0</td>\n",
       "      <td>A2</td>\n",
       "      <td>4</td>\n",
       "      <td>12</td>\n",
       "      <td>MOTOCARRO</td>\n",
       "      <td>2</td>\n",
       "      <td>CONSTRUCCIÓN</td>\n",
       "      <td>2</td>\n",
       "      <td>2.0</td>\n",
       "      <td>4</td>\n",
       "    </tr>\n",
       "  </tbody>\n",
       "</table>\n",
       "</div>"
      ],
      "text/plain": [
       "      CÓDIGO                       NOMBRE  IDENTIFICACIÓN  \\\n",
       "0  MH-SM-190    LUIS ALBERTO JIMÉNEZ RICO    1.052243e+09   \n",
       "1  MH-SM-191  DÁMASO JOSÉ LAGUNA ZAMBRANO    9.142642e+07   \n",
       "2  MH-SM-192      WILINTON ROBLES CAMARGO    7.354154e+06   \n",
       "3  MH-SM-193       ANA JOCEFA PICO ALBEAR    2.310956e+07   \n",
       "4  MH-SM-194  JESÚS ALBERTO LAGUNA NIETO     1.050067e+09   \n",
       "\n",
       "  LUGAR DE EXPEDICIÒN DEL DOCUMENTO     TELÉFONO  \\\n",
       "0                                NaN  3002266202   \n",
       "1                    BARRANCABERMEJA  3169344658   \n",
       "2                 SAN MARTÍN DE LOBA  3134905765   \n",
       "3                 SAN MARTÍN DE LOBA  3002266202   \n",
       "4                 SAN MARTÍN DE LOBA  3215918426   \n",
       "\n",
       "                           DIRECCIÓN  EDAD SEXO M(1) F (2)  \\\n",
       "0  Puerto de chimí - calle esperanza  17.0               1   \n",
       "1                                NaN  58.0               1   \n",
       "2                CALLE CENTRAL CHIMI  39.0               1   \n",
       "3                 CALLE LA ESPERANZA  38.0               2   \n",
       "4                         SANTA INÉS  30.0               1   \n",
       "\n",
       "   LUGAR DONDE RESIDE      DEPARTAMENTO/MUNICIPIO  ESTRATO  AREA   \\\n",
       "0  SAN MARTÍN DE LOBA  BOLÍVAR-SAN MARTÍN DE LOBA      NaN    1.0   \n",
       "1  SAN MARTÍN DE LOBA  BOLÍVAR-SAN MARTÍN DE LOBA      1.0    1.0   \n",
       "2  SAN MARTÍN DE LOBA  BOLÍVAR-SAN MARTÍN DE LOBA      1.0    2.0   \n",
       "3  SAN MARTÍN DE LOBA  BOLÍVAR-SAN MARTÍN DE LOBA      1.0    2.0   \n",
       "4  SAN MARTÍN DE LOBA  BOLÍVAR-SAN MARTÍN DE LOBA      1.0    1.0   \n",
       "\n",
       "  HACE CUANTO TIEMPO VIVE EN ESE LUGAR  CUANTAS PERSONAS COMPONEN SU HOGAR  \\\n",
       "0                                   17                                 5.0   \n",
       "1                                   10                                 4.0   \n",
       "2                                  NaN                                 4.0   \n",
       "3                                   38                                 7.0   \n",
       "4                                    4                                 3.0   \n",
       "\n",
       "   GRUPO POBLACIONAL   TIPO DE USUARIO EN EL SGSSS  ESTADO CIVIL  ESCOLARIDAD  \\\n",
       "0                 NaN                          2.0           5.0          2.0   \n",
       "1                 NaN                          2.0           5.0          1.0   \n",
       "2                 NaN                          1.0           1.0          2.0   \n",
       "3                 NaN                          2.0           5.0          4.0   \n",
       "4                 NaN                          2.0           2.0          3.0   \n",
       "\n",
       "   LE HAN HECHO ENCUESTAS DE SISBEN  EN QUE NIVEL LO CALIFICARON   \\\n",
       "0                                1.0                           A1   \n",
       "1                                1.0                      NO SABE   \n",
       "2                                1.0                          NaN   \n",
       "3                                1.0                           A1   \n",
       "4                                1.0                           A2   \n",
       "\n",
       "  DONDE VIVIA ANTERIORMENTE  RAZONES POR LAS QUE SE MUDO   \\\n",
       "0                        NaN                          NaN   \n",
       "1                          4                           12   \n",
       "2                          4                           13   \n",
       "3                  NO APLICA                          NaN   \n",
       "4                          4                           12   \n",
       "\n",
       "                             OFICIO ACTUAL  \\\n",
       "0                              MOTOTAXISTA   \n",
       "1  SURTIDOR DE AGUA - RECOLECTOR DE BASURA   \n",
       "2                   FONTANERÍA-COMERCIANTE   \n",
       "3                          CASA DE FAMILIA   \n",
       "4                                MOTOCARRO   \n",
       "\n",
       "  TIEMPO QUE LLEVA LABORANDO EN SU OFICIO ACTUAL  \\\n",
       "0                                              1   \n",
       "1                                             12   \n",
       "2                                             21   \n",
       "3                                             23   \n",
       "4                                              2   \n",
       "\n",
       "  OFICIOS DESEMPEÑADOS ANTERIORMENTE  \\\n",
       "0                            JHONSON   \n",
       "1      PLOMERÍA-CONSTRUCCIÓN-MINERÍA   \n",
       "2                                NaN   \n",
       "3                                NaN   \n",
       "4                       CONSTRUCCIÓN   \n",
       "\n",
       "  USTED O ALGÚN MIEMBRO DE SU FAMILIA REALIZA QUEMA DE AMALGAMA EN CASA  \\\n",
       "0                                                  2                      \n",
       "1                                                  2                      \n",
       "2                                                  1                      \n",
       "3                                                  2                      \n",
       "4                                                  2                      \n",
       "\n",
       "   USTED O ALGÚN MIEMBRO DE SU FAMILIA QUE VIVA CON USTED ALMACENA MERCURIO EN CASA  \\\n",
       "0                                                2.0                                  \n",
       "1                                                2.0                                  \n",
       "2                                                1.0                                  \n",
       "3                                                2.0                                  \n",
       "4                                                2.0                                  \n",
       "\n",
       "  A QUE DISTANCIA SE ENCUENTRA UBICADA SU CASA DE LA COMPRAVENTA DE ORO O EL SITIO DONDE SE QUEMA LA AMALGAMA  \n",
       "0                                                  4                                                           \n",
       "1                                                  4                                                           \n",
       "2                                                  4                                                           \n",
       "3                                                  4                                                           \n",
       "4                                                  4                                                           "
      ]
     },
     "execution_count": 186,
     "metadata": {},
     "output_type": "execute_result"
    }
   ],
   "source": [
    "df_SM190_a_SMBL255.head(5)"
   ]
  },
  {
   "cell_type": "code",
   "execution_count": 187,
   "metadata": {},
   "outputs": [
    {
     "data": {
      "text/plain": [
       "array(['CÓDIGO', 'NOMBRE', 'IDENTIFICACIÓN',\n",
       "       'LUGAR DE EXPEDICIÒN DEL DOCUMENTO ', 'TELÉFONO', 'DIRECCIÓN',\n",
       "       'EDAD', 'SEXO M(1) F (2)', 'LUGAR DONDE RESIDE',\n",
       "       'DEPARTAMENTO/MUNICIPIO', 'ESTRATO', 'AREA ',\n",
       "       'HACE CUANTO TIEMPO VIVE EN ESE LUGAR',\n",
       "       'CUANTAS PERSONAS COMPONEN SU HOGAR', 'GRUPO POBLACIONAL ',\n",
       "       'TIPO DE USUARIO EN EL SGSSS', 'ESTADO CIVIL', 'ESCOLARIDAD',\n",
       "       'LE HAN HECHO ENCUESTAS DE SISBEN ',\n",
       "       'EN QUE NIVEL LO CALIFICARON ', 'DONDE VIVIA ANTERIORMENTE ',\n",
       "       'RAZONES POR LAS QUE SE MUDO ', 'OFICIO ACTUAL',\n",
       "       'TIEMPO QUE LLEVA LABORANDO EN SU OFICIO ACTUAL',\n",
       "       'OFICIOS DESEMPEÑADOS ANTERIORMENTE',\n",
       "       'USTED O ALGÚN MIEMBRO DE SU FAMILIA REALIZA QUEMA DE AMALGAMA EN CASA',\n",
       "       'USTED O ALGÚN MIEMBRO DE SU FAMILIA QUE VIVA CON USTED ALMACENA MERCURIO EN CASA',\n",
       "       'A QUE DISTANCIA SE ENCUENTRA UBICADA SU CASA DE LA COMPRAVENTA DE ORO O EL SITIO DONDE SE QUEMA LA AMALGAMA'],\n",
       "      dtype=object)"
      ]
     },
     "execution_count": 187,
     "metadata": {},
     "output_type": "execute_result"
    }
   ],
   "source": [
    "df_SM190_a_SMBL255.columns.values"
   ]
  },
  {
   "cell_type": "code",
   "execution_count": 188,
   "metadata": {},
   "outputs": [
    {
     "data": {
      "text/plain": [
       "array(['INFORMACIÓN GENERAL', 'Unnamed: 1', 'Unnamed: 2', 'Unnamed: 3',\n",
       "       'Unnamed: 4', 'Unnamed: 5', 'Unnamed: 6', 'Unnamed: 7',\n",
       "       'Unnamed: 8', 'Unnamed: 9', 'Unnamed: 10', 'Unnamed: 11',\n",
       "       'Unnamed: 12', 'Unnamed: 13', 'Unnamed: 14', 'Unnamed: 15',\n",
       "       'Unnamed: 16', 'Unnamed: 17', 'Unnamed: 18', 'Unnamed: 19',\n",
       "       'Unnamed: 20', 'Unnamed: 21', 'Unnamed: 22', 'Unnamed: 23',\n",
       "       'Unnamed: 24', 'Unnamed: 25', 'Unnamed: 26', 'Unnamed: 27',\n",
       "       'Unnamed: 28'], dtype=object)"
      ]
     },
     "execution_count": 188,
     "metadata": {},
     "output_type": "execute_result"
    }
   ],
   "source": [
    "df_UC.columns.values"
   ]
  },
  {
   "cell_type": "code",
   "execution_count": 189,
   "metadata": {},
   "outputs": [
    {
     "name": "stdout",
     "output_type": "stream",
     "text": [
      "[nan 'TALLER DE SOLDADURA FRENTE A SU CASA'\n",
      " 'A LOS 7 AÑOS SE ROMPIÓ UN TERMOMETRO Y TUVO CONTACTO CON EL']\n"
     ]
    }
   ],
   "source": [
    "print(df_UC['Unnamed: 28'].unique())\n",
    "df_UC.drop('Unnamed: 28', axis=1, inplace=True)"
   ]
  },
  {
   "cell_type": "code",
   "execution_count": 190,
   "metadata": {},
   "outputs": [],
   "source": [
    "# Obtener las columnas deseadas del primer DataFrame\n",
    "columnas_deseadas = ['CÓDIGO', 'NOMBRE', 'IDENTIFICACIÓN', 'LUGAR DE EXPEDICIÒN DEL DOCUMENTO ', 'TELÉFONO',\n",
    "                     'DIRECCIÓN', 'EDAD', 'SEXO M(1) F (2)', 'LUGAR DONDE RESIDE', 'DEPARTAMENTO/MUNICIPIO',\n",
    "                     'ESTRATO', 'AREA ', 'HACE CUANTO TIEMPO VIVE EN ESE LUGAR', 'CUANTAS PERSONAS COMPONEN SU HOGAR',\n",
    "                     'GRUPO POBLACIONAL ', 'TIPO DE USUARIO EN EL SGSSS', 'ESTADO CIVIL', 'ESCOLARIDAD',\n",
    "                     'LE HAN HECHO ENCUESTAS DE SISBEN ', 'EN QUE NIVEL LO CALIFICARON ', 'DONDE VIVIA ANTERIORMENTE ',\n",
    "                     'RAZONES POR LAS QUE SE MUDO ', 'OFICIO ACTUAL', 'TIEMPO QUE LLEVA LABORANDO EN SU OFICIO ACTUAL',\n",
    "                     'OFICIOS DESEMPEÑADOS ANTERIORMENTE',\n",
    "                     'USTED O ALGÚN MIEMBRO DE SU FAMILIA REALIZA QUEMA DE AMALGAMA EN CASA',\n",
    "                     'USTED O ALGÚN MIEMBRO DE SU FAMILIA QUE VIVA CON USTED ALMACENA MERCURIO EN CASA',\n",
    "                     'A QUE DISTANCIA SE ENCUENTRA UBICADA SU CASA DE LA COMPRAVENTA DE ORO O EL SITIO DONDE SE QUEMA LA AMALGAMA']\n",
    "\n",
    "# Renombrar las columnas del segundo DataFrame\n",
    "df_UC.columns = columnas_deseadas"
   ]
  },
  {
   "cell_type": "code",
   "execution_count": 191,
   "metadata": {},
   "outputs": [],
   "source": [
    "# Quitar filas indeseadas\n",
    "df_UC = df_UC.iloc[4:]"
   ]
  },
  {
   "cell_type": "code",
   "execution_count": 192,
   "metadata": {},
   "outputs": [
    {
     "data": {
      "text/html": [
       "<div>\n",
       "<style scoped>\n",
       "    .dataframe tbody tr th:only-of-type {\n",
       "        vertical-align: middle;\n",
       "    }\n",
       "\n",
       "    .dataframe tbody tr th {\n",
       "        vertical-align: top;\n",
       "    }\n",
       "\n",
       "    .dataframe thead th {\n",
       "        text-align: right;\n",
       "    }\n",
       "</style>\n",
       "<table border=\"1\" class=\"dataframe\">\n",
       "  <thead>\n",
       "    <tr style=\"text-align: right;\">\n",
       "      <th></th>\n",
       "      <th>CÓDIGO</th>\n",
       "      <th>NOMBRE</th>\n",
       "      <th>IDENTIFICACIÓN</th>\n",
       "      <th>LUGAR DE EXPEDICIÒN DEL DOCUMENTO</th>\n",
       "      <th>TELÉFONO</th>\n",
       "      <th>DIRECCIÓN</th>\n",
       "      <th>EDAD</th>\n",
       "      <th>SEXO M(1) F (2)</th>\n",
       "      <th>LUGAR DONDE RESIDE</th>\n",
       "      <th>DEPARTAMENTO/MUNICIPIO</th>\n",
       "      <th>ESTRATO</th>\n",
       "      <th>AREA</th>\n",
       "      <th>HACE CUANTO TIEMPO VIVE EN ESE LUGAR</th>\n",
       "      <th>CUANTAS PERSONAS COMPONEN SU HOGAR</th>\n",
       "      <th>GRUPO POBLACIONAL</th>\n",
       "      <th>TIPO DE USUARIO EN EL SGSSS</th>\n",
       "      <th>ESTADO CIVIL</th>\n",
       "      <th>ESCOLARIDAD</th>\n",
       "      <th>LE HAN HECHO ENCUESTAS DE SISBEN</th>\n",
       "      <th>EN QUE NIVEL LO CALIFICARON</th>\n",
       "      <th>DONDE VIVIA ANTERIORMENTE</th>\n",
       "      <th>RAZONES POR LAS QUE SE MUDO</th>\n",
       "      <th>OFICIO ACTUAL</th>\n",
       "      <th>TIEMPO QUE LLEVA LABORANDO EN SU OFICIO ACTUAL</th>\n",
       "      <th>OFICIOS DESEMPEÑADOS ANTERIORMENTE</th>\n",
       "      <th>USTED O ALGÚN MIEMBRO DE SU FAMILIA REALIZA QUEMA DE AMALGAMA EN CASA</th>\n",
       "      <th>USTED O ALGÚN MIEMBRO DE SU FAMILIA QUE VIVA CON USTED ALMACENA MERCURIO EN CASA</th>\n",
       "      <th>A QUE DISTANCIA SE ENCUENTRA UBICADA SU CASA DE LA COMPRAVENTA DE ORO O EL SITIO DONDE SE QUEMA LA AMALGAMA</th>\n",
       "    </tr>\n",
       "  </thead>\n",
       "  <tbody>\n",
       "    <tr>\n",
       "      <th>4</th>\n",
       "      <td>MH-UC-001</td>\n",
       "      <td>ANA DEL CARMEN JIMENEZ OLMOS</td>\n",
       "      <td>1118873218</td>\n",
       "      <td>RIOHACHA</td>\n",
       "      <td>3217073650</td>\n",
       "      <td>CR 50 C- N 30F -50</td>\n",
       "      <td>24</td>\n",
       "      <td>2</td>\n",
       "      <td>CARTAGENA</td>\n",
       "      <td>BOLIVAR</td>\n",
       "      <td>2</td>\n",
       "      <td>1</td>\n",
       "      <td>1</td>\n",
       "      <td>2</td>\n",
       "      <td>6</td>\n",
       "      <td>1</td>\n",
       "      <td>5</td>\n",
       "      <td>9</td>\n",
       "      <td>1</td>\n",
       "      <td>1</td>\n",
       "      <td>4</td>\n",
       "      <td>8</td>\n",
       "      <td>BIOLOGO</td>\n",
       "      <td>1</td>\n",
       "      <td>PROFESOR DE BIOLOGIA</td>\n",
       "      <td>2</td>\n",
       "      <td>2</td>\n",
       "      <td>4</td>\n",
       "    </tr>\n",
       "  </tbody>\n",
       "</table>\n",
       "</div>"
      ],
      "text/plain": [
       "      CÓDIGO                         NOMBRE IDENTIFICACIÓN  \\\n",
       "4  MH-UC-001  ANA DEL CARMEN JIMENEZ OLMOS      1118873218   \n",
       "\n",
       "  LUGAR DE EXPEDICIÒN DEL DOCUMENTO     TELÉFONO           DIRECCIÓN EDAD  \\\n",
       "4                          RIOHACHA   3217073650  CR 50 C- N 30F -50   24   \n",
       "\n",
       "  SEXO M(1) F (2) LUGAR DONDE RESIDE DEPARTAMENTO/MUNICIPIO ESTRATO AREA   \\\n",
       "4               2         CARTAGENA                BOLIVAR        2     1   \n",
       "\n",
       "  HACE CUANTO TIEMPO VIVE EN ESE LUGAR CUANTAS PERSONAS COMPONEN SU HOGAR  \\\n",
       "4                                    1                                  2   \n",
       "\n",
       "  GRUPO POBLACIONAL  TIPO DE USUARIO EN EL SGSSS ESTADO CIVIL ESCOLARIDAD  \\\n",
       "4                  6                           1            5           9   \n",
       "\n",
       "  LE HAN HECHO ENCUESTAS DE SISBEN  EN QUE NIVEL LO CALIFICARON   \\\n",
       "4                                 1                            1   \n",
       "\n",
       "  DONDE VIVIA ANTERIORMENTE  RAZONES POR LAS QUE SE MUDO  OFICIO ACTUAL  \\\n",
       "4                          4                            8       BIOLOGO   \n",
       "\n",
       "  TIEMPO QUE LLEVA LABORANDO EN SU OFICIO ACTUAL  \\\n",
       "4                                             1    \n",
       "\n",
       "  OFICIOS DESEMPEÑADOS ANTERIORMENTE  \\\n",
       "4              PROFESOR DE BIOLOGIA    \n",
       "\n",
       "  USTED O ALGÚN MIEMBRO DE SU FAMILIA REALIZA QUEMA DE AMALGAMA EN CASA  \\\n",
       "4                                                  2                      \n",
       "\n",
       "  USTED O ALGÚN MIEMBRO DE SU FAMILIA QUE VIVA CON USTED ALMACENA MERCURIO EN CASA  \\\n",
       "4                                                  2                                 \n",
       "\n",
       "  A QUE DISTANCIA SE ENCUENTRA UBICADA SU CASA DE LA COMPRAVENTA DE ORO O EL SITIO DONDE SE QUEMA LA AMALGAMA  \n",
       "4                                                  4                                                           "
      ]
     },
     "execution_count": 192,
     "metadata": {},
     "output_type": "execute_result"
    }
   ],
   "source": [
    "df_UC.head(1)"
   ]
  },
  {
   "cell_type": "code",
   "execution_count": 193,
   "metadata": {},
   "outputs": [
    {
     "name": "stdout",
     "output_type": "stream",
     "text": [
      "(73, 28)\n",
      "(218, 28)\n",
      "(155, 28)\n"
     ]
    }
   ],
   "source": [
    "print(df_SM190_a_SMBL255.shape)\n",
    "print(df_UC.shape)\n",
    "print(df_SM001_A_SM189.shape)"
   ]
  },
  {
   "cell_type": "code",
   "execution_count": 194,
   "metadata": {},
   "outputs": [
    {
     "name": "stdout",
     "output_type": "stream",
     "text": [
      "[ 5.  1.  2.  3.  4. nan]\n",
      "[ 4.  1.  2. nan  3.  5.]\n",
      "[5 2 1 3 4 nan]\n"
     ]
    }
   ],
   "source": [
    "print(df_SM190_a_SMBL255['ESTADO CIVIL'].unique())\n",
    "print(df_SM001_A_SM189['ESTADO CIVIL'].unique())\n",
    "print(df_UC['ESTADO CIVIL'].unique())"
   ]
  },
  {
   "cell_type": "code",
   "execution_count": 195,
   "metadata": {},
   "outputs": [
    {
     "name": "stdout",
     "output_type": "stream",
     "text": [
      "[5 2 1 3 4]\n"
     ]
    }
   ],
   "source": [
    "# Crear una copia explícita de df_UC\n",
    "df_UC_copia = df_UC.copy()\n",
    "\n",
    "# Sustituir valores nulos por la moda en 'INFORMACIÓN GENERAL' de df_UC\n",
    "moda_info_general = df_UC['ESTADO CIVIL'].mode().iloc[0]\n",
    "# Sustituir valores nulos por la moda en 'ESTADO CIVIL' de df_UC_copia\n",
    "df_UC_copia['ESTADO CIVIL'].fillna(moda_info_general, inplace=True)\n",
    "\n",
    "# Verificar los cambios\n",
    "print(df_UC_copia['ESTADO CIVIL'].unique())\n",
    "\n",
    "# Asignar la copia modificada de vuelta a df_UC\n",
    "df_UC = df_UC_copia"
   ]
  },
  {
   "cell_type": "markdown",
   "metadata": {},
   "source": [
    "## 0 es que no especifica"
   ]
  },
  {
   "cell_type": "code",
   "execution_count": 196,
   "metadata": {},
   "outputs": [
    {
     "name": "stdout",
     "output_type": "stream",
     "text": [
      "[5. 1. 2. 3. 4. 0.]\n",
      "[4. 1. 2. 0. 3. 5.]\n",
      "[5 2 1 3 4]\n"
     ]
    }
   ],
   "source": [
    "# Sustituir valores nulos por la moda en 'ESTADO CIVIL' de df_SM190_a_SMBL255_sin_nulos\n",
    "moda_estado_civil = df_SM190_a_SMBL255['ESTADO CIVIL'].mode().iloc[0]\n",
    "df_SM190_a_SMBL255['ESTADO CIVIL'].fillna(0, inplace=True)\n",
    "\n",
    "# Sustituir valores nulos por la moda en 'INFORMACIÓN GENERAL' de df_UC\n",
    "#moda_info_general = df_UC['ESTADO CIVIL'].mode().iloc[0]\n",
    "df_UC['ESTADO CIVIL'].fillna(0, inplace=True)\n",
    "\n",
    "# Sustituir valores nulos por la moda en 'CÓDIGO' de df_SM001_A_SM189\n",
    "moda_codigo = df_SM001_A_SM189['ESTADO CIVIL'].mode().iloc[0]\n",
    "df_SM001_A_SM189['ESTADO CIVIL'].fillna(0, inplace=True)\n",
    "\n",
    "print(df_SM190_a_SMBL255['ESTADO CIVIL'].unique())\n",
    "print(df_SM001_A_SM189['ESTADO CIVIL'].unique())\n",
    "print(df_UC['ESTADO CIVIL'].unique())\n",
    "\n",
    "df_SM001_A_SM189['ESTADO CIVIL'] = df_SM001_A_SM189['ESTADO CIVIL'].astype('int')\n",
    "df_SM190_a_SMBL255['ESTADO CIVIL'] = df_SM190_a_SMBL255['ESTADO CIVIL'].astype('int')"
   ]
  },
  {
   "cell_type": "markdown",
   "metadata": {},
   "source": [
    "## Limpieza de todo SM. Ambas encuestas Excel"
   ]
  },
  {
   "cell_type": "code",
   "execution_count": 197,
   "metadata": {},
   "outputs": [
    {
     "data": {
      "text/plain": [
       "['IDENTIFICACIÓN',\n",
       " 'LUGAR DE EXPEDICIÒN DEL DOCUMENTO ',\n",
       " 'TELÉFONO',\n",
       " 'DIRECCIÓN',\n",
       " 'EDAD',\n",
       " 'LUGAR DONDE RESIDE',\n",
       " 'DEPARTAMENTO/MUNICIPIO',\n",
       " 'ESTRATO',\n",
       " 'AREA ',\n",
       " 'HACE CUANTO TIEMPO VIVE EN ESE LUGAR',\n",
       " 'CUANTAS PERSONAS COMPONEN SU HOGAR',\n",
       " 'GRUPO POBLACIONAL ',\n",
       " 'TIPO DE USUARIO EN EL SGSSS',\n",
       " 'ESCOLARIDAD',\n",
       " 'LE HAN HECHO ENCUESTAS DE SISBEN ',\n",
       " 'EN QUE NIVEL LO CALIFICARON ',\n",
       " 'DONDE VIVIA ANTERIORMENTE ',\n",
       " 'RAZONES POR LAS QUE SE MUDO ',\n",
       " 'OFICIO ACTUAL',\n",
       " 'TIEMPO QUE LLEVA LABORANDO EN SU OFICIO ACTUAL',\n",
       " 'OFICIOS DESEMPEÑADOS ANTERIORMENTE',\n",
       " 'USTED O ALGÚN MIEMBRO DE SU FAMILIA REALIZA QUEMA DE AMALGAMA EN CASA',\n",
       " 'USTED O ALGÚN MIEMBRO DE SU FAMILIA QUE VIVA CON USTED ALMACENA MERCURIO EN CASA',\n",
       " 'A QUE DISTANCIA SE ENCUENTRA UBICADA SU CASA DE LA COMPRAVENTA DE ORO O EL SITIO DONDE SE QUEMA LA AMALGAMA']"
      ]
     },
     "execution_count": 197,
     "metadata": {},
     "output_type": "execute_result"
    }
   ],
   "source": [
    "columns_with_nulls = df_SM001_A_SM189.columns[df_SM001_A_SM189.isnull().any()].tolist()\n",
    "columns_with_nulls"
   ]
  },
  {
   "cell_type": "code",
   "execution_count": 198,
   "metadata": {},
   "outputs": [
    {
     "data": {
      "text/plain": [
       "['NOMBRE',\n",
       " 'IDENTIFICACIÓN',\n",
       " 'LUGAR DE EXPEDICIÒN DEL DOCUMENTO ',\n",
       " 'TELÉFONO',\n",
       " 'DIRECCIÓN',\n",
       " 'EDAD',\n",
       " 'SEXO M(1) F (2)',\n",
       " 'LUGAR DONDE RESIDE',\n",
       " 'DEPARTAMENTO/MUNICIPIO',\n",
       " 'ESTRATO',\n",
       " 'AREA ',\n",
       " 'HACE CUANTO TIEMPO VIVE EN ESE LUGAR',\n",
       " 'CUANTAS PERSONAS COMPONEN SU HOGAR',\n",
       " 'GRUPO POBLACIONAL ',\n",
       " 'TIPO DE USUARIO EN EL SGSSS',\n",
       " 'ESCOLARIDAD',\n",
       " 'LE HAN HECHO ENCUESTAS DE SISBEN ',\n",
       " 'EN QUE NIVEL LO CALIFICARON ',\n",
       " 'DONDE VIVIA ANTERIORMENTE ',\n",
       " 'RAZONES POR LAS QUE SE MUDO ',\n",
       " 'OFICIO ACTUAL',\n",
       " 'TIEMPO QUE LLEVA LABORANDO EN SU OFICIO ACTUAL',\n",
       " 'OFICIOS DESEMPEÑADOS ANTERIORMENTE',\n",
       " 'USTED O ALGÚN MIEMBRO DE SU FAMILIA REALIZA QUEMA DE AMALGAMA EN CASA',\n",
       " 'USTED O ALGÚN MIEMBRO DE SU FAMILIA QUE VIVA CON USTED ALMACENA MERCURIO EN CASA',\n",
       " 'A QUE DISTANCIA SE ENCUENTRA UBICADA SU CASA DE LA COMPRAVENTA DE ORO O EL SITIO DONDE SE QUEMA LA AMALGAMA']"
      ]
     },
     "execution_count": 198,
     "metadata": {},
     "output_type": "execute_result"
    }
   ],
   "source": [
    "columns_with_nulls2 = df_SM190_a_SMBL255.columns[df_SM190_a_SMBL255.isnull().any()].tolist()\n",
    "columns_with_nulls2"
   ]
  },
  {
   "cell_type": "code",
   "execution_count": 199,
   "metadata": {},
   "outputs": [
    {
     "data": {
      "text/plain": [
       "array(['MOTOTAXISTA', 'SURTIDOR DE AGUA - RECOLECTOR DE BASURA',\n",
       "       'FONTANERÍA-COMERCIANTE', 'CASA DE FAMILIA', 'MOTOCARRO',\n",
       "       'VENDEDOR CARNE CERDO Y QUESO', 'COMERCIANTE VERDURAS', 'PESCADOR',\n",
       "       'MOTOTAXISTA-LANCHERO', 'COMERCIANTE-COMPRA Y VENTA DE PESCADOS',\n",
       "       'AMA DE CASA', 'AGRICULTURA', 'SERVICIO', 'VENDEDOR PESCADO',\n",
       "       'ESTUDIANTE', 'AMA - COMERCIANTE',\n",
       "       'INSEMINACIÓN ARTIFICIAL - VACUNA GANADO', 'MINERÍA',\n",
       "       'RECOGER BASURA Y BARRER', 'COMERCIANTE DE GANADERÍA',\n",
       "       'COMERCIANTE DE MAÍZ Y PASTELES', 'AYUDANTE ALBAÑIL', 'MECÁNICO',\n",
       "       'MINERÍA-AGRICULTURA', nan, 'COSTURERA', 'VENDEDOR DE CHANCE',\n",
       "       'AMA DE CASA-VENDEDORA DE CHANCE', 'MODISTA', 'MINERO',\n",
       "       'VENDEDOR-MINERO A VECES', 'AGRICULTURA, MINERÍA'], dtype=object)"
      ]
     },
     "execution_count": 199,
     "metadata": {},
     "output_type": "execute_result"
    }
   ],
   "source": [
    "df_SM190_a_SMBL255['OFICIO ACTUAL'].unique()"
   ]
  },
  {
   "cell_type": "code",
   "execution_count": 200,
   "metadata": {},
   "outputs": [
    {
     "data": {
      "text/plain": [
       "array(['MINERIA- AGRICULTUR- PESCA ', 'AMA DE CASA ', nan, 'AGRICULTOR ',\n",
       "       'MINERO Y AGRICULTOR ', 'NO TIENE ', 'YA NO TRABAJA POR LA EDAD',\n",
       "       'MINERIA ', 'EMPLEADA DOMESTICA ', 'ARTESANA ', 'NO TRABAJA',\n",
       "       'SUPERVISORA PAE', 'NO TRABAJA ', 'ESTUDIANTE ', 'MINERO',\n",
       "       'ENFERMERA AUXILIAR ', 'BEBE ', 'MINERO ', 'AMA DE CASA - MINERA ',\n",
       "       'AMA DE CASAM', 'CONDUCTOR ', 'MINERÍA', 'CONSEJAL',\n",
       "       'TÉCNICO EN ELECTRÓNICA', 'PROFESOR', 'AMA DE CASA', 'ESTILISTAS ',\n",
       "       'GANADERÍA', 'MODISTA Y AMA DE CASA', 'AGRICULTOR',\n",
       "       'MINERÍA Y AGRICULTURA', 'ESTUDIANTE',\n",
       "       'EMPLEADA DOMESTICA, COMERCIANTE ', 'CAMPESINO'], dtype=object)"
      ]
     },
     "execution_count": 200,
     "metadata": {},
     "output_type": "execute_result"
    }
   ],
   "source": [
    "df_SM001_A_SM189['OFICIO ACTUAL'].unique()"
   ]
  },
  {
   "cell_type": "code",
   "execution_count": 201,
   "metadata": {},
   "outputs": [],
   "source": [
    "# CAMBIOS O UNIFICACIÓN DE PROFESIONES EN SM DEL 1 AL 189\n",
    "# Crear una máscara booleana para las filas que cumplen con la condición\n",
    "mask = df_SM001_A_SM189['OFICIO ACTUAL'] == 'NO TRABAJA '\n",
    "# Actualizar el valor en la columna 'OFICIO ACTUAL'\n",
    "df_SM001_A_SM189.loc[mask, 'OFICIO ACTUAL'] = 'NO TRABAJA'\n",
    "\n",
    "# Crear una máscara booleana para las filas que cumplen con la condición\n",
    "mask = df_SM001_A_SM189['OFICIO ACTUAL'] == 'AMA DE CASA '\n",
    "# Actualizar el valor en la columna 'OFICIO ACTUAL'\n",
    "df_SM001_A_SM189.loc[mask, 'OFICIO ACTUAL'] = 'AMA DE CASA'\n",
    "\n",
    "# Crear una máscara booleana para las filas que cumplen con la condición\n",
    "mask = df_SM001_A_SM189['OFICIO ACTUAL'] == 'AMA DE CASAM'\n",
    "# Actualizar el valor en la columna 'OFICIO ACTUAL'\n",
    "df_SM001_A_SM189.loc[mask, 'OFICIO ACTUAL'] = 'AMA DE CASA'\n",
    "\n",
    "# Crear una máscara booleana para las filas que cumplen con la condición\n",
    "mask = df_SM001_A_SM189['OFICIO ACTUAL'] == 'MODISTA Y AMA DE CASA'\n",
    "# Actualizar el valor en la columna 'OFICIO ACTUAL'\n",
    "df_SM001_A_SM189.loc[mask, 'OFICIO ACTUAL'] = 'AMA DE CASA'\n",
    "\n",
    "# Crear una máscara booleana para las filas que cumplen con la condición\n",
    "mask = df_SM001_A_SM189['OFICIO ACTUAL'] == 'AGRICULTOR '\n",
    "# Actualizar el valor en la columna 'OFICIO ACTUAL'\n",
    "df_SM001_A_SM189.loc[mask, 'OFICIO ACTUAL'] = 'AGRICULTOR'\n",
    "\n",
    "# Crear una máscara booleana para las filas que cumplen con la condición\n",
    "mask = df_SM001_A_SM189['OFICIO ACTUAL'] == 'ESTUDIANTE '\n",
    "# Actualizar el valor en la columna 'OFICIO ACTUAL'\n",
    "df_SM001_A_SM189.loc[mask, 'OFICIO ACTUAL'] = 'ESTUDIANTE'\n",
    "\n",
    "# Crear una máscara booleana para las filas que cumplen con la condición\n",
    "mask = df_SM001_A_SM189['OFICIO ACTUAL'] == 'NO TIENE '\n",
    "# Actualizar el valor en la columna 'OFICIO ACTUAL'\n",
    "df_SM001_A_SM189.loc[mask, 'OFICIO ACTUAL'] = 'NO TIENE/NO TRABAJA'\n",
    "\n",
    "mask = df_SM001_A_SM189['OFICIO ACTUAL'] == 'NO TRABAJA'\n",
    "# Actualizar el valor en la columna 'OFICIO ACTUAL'\n",
    "df_SM001_A_SM189.loc[mask, 'OFICIO ACTUAL'] = 'NO TIENE/NO TRABAJA'\n",
    "\n",
    "mask = df_SM001_A_SM189['OFICIO ACTUAL'] == 'EMPLEADA DOMESTICA, COMERCIANTE '\n",
    "# Actualizar el valor en la columna 'OFICIO ACTUAL'\n",
    "df_SM001_A_SM189.loc[mask, 'OFICIO ACTUAL'] = 'COMERCIANTE'\n"
   ]
  },
  {
   "cell_type": "code",
   "execution_count": 202,
   "metadata": {},
   "outputs": [],
   "source": [
    "# AHORA PARA SM DEL 190 A SMBL 255\n",
    "\n",
    "# Crear una máscara booleana para las filas que cumplen con la condición\n",
    "mask = df_SM190_a_SMBL255['OFICIO ACTUAL'].str.contains(r'MINER', case=False, na=False)\n",
    "# Actualizar los valores en la columna 'OFICIO ACTUAL'\n",
    "df_SM190_a_SMBL255.loc[mask, 'OFICIO ACTUAL'] = 'MINERÍA'\n",
    "\n",
    "# Crear una máscara booleana para las filas que cumplen con la condición\n",
    "mask = df_SM001_A_SM189['OFICIO ACTUAL'].str.contains(r'MINER', case=False, na=False)\n",
    "# Actualizar los valores en la columna 'OFICIO ACTUAL'\n",
    "df_SM001_A_SM189.loc[mask, 'OFICIO ACTUAL'] = 'MINERÍA'\n",
    "\n",
    "#Crear una máscara booleana para las filas que cumplen con la condición\n",
    "mask = df_SM190_a_SMBL255['OFICIO ACTUAL'] == 'COMERCIANTE-COMPRA Y VENTA DE PESCADOS'\n",
    "# Actualizar el valor en la columna 'OFICIO ACTUAL'\n",
    "df_SM190_a_SMBL255.loc[mask, 'OFICIO ACTUAL'] = 'VENDEDOR PESCADO'\n",
    "\n",
    "# Crear una máscara booleana para las filas que cumplen con la condición\n",
    "mask = df_SM190_a_SMBL255['OFICIO ACTUAL'] == 'MOTOTAXISTA-LANCHERO'\n",
    "# Actualizar el valor en la columna 'OFICIO ACTUAL'\n",
    "df_SM190_a_SMBL255.loc[mask, 'OFICIO ACTUAL'] = 'MOTOTAXISTA'\n",
    "\n",
    "# Crear una máscara booleana para las filas que cumplen con la condición\n",
    "mask = df_SM190_a_SMBL255['OFICIO ACTUAL'] == 'AMA DE CASA-VENDEDORA DE CHANCE'\n",
    "# Actualizar el valor en la columna 'OFICIO ACTUAL'\n",
    "df_SM190_a_SMBL255.loc[mask, 'OFICIO ACTUAL'] = 'AMA DE CASA'\n",
    "\n",
    "# Crear una máscara booleana para las filas que cumplen con la condición\n",
    "mask = df_SM190_a_SMBL255['OFICIO ACTUAL'] == 'FONTANERÍA-COMERCIANTE'\n",
    "# Actualizar el valor en la columna 'OFICIO ACTUAL'\n",
    "df_SM190_a_SMBL255.loc[mask, 'OFICIO ACTUAL'] = 'COMERCIANTE'\n",
    "\n",
    "# Crear una máscara booleana para las filas que cumplen con la condición\n",
    "mask = df_SM190_a_SMBL255['OFICIO ACTUAL'] == 'AMA - COMERCIANTE'\n",
    "# Actualizar el valor en la columna 'OFICIO ACTUAL'\n",
    "df_SM190_a_SMBL255.loc[mask, 'OFICIO ACTUAL'] = 'COMERCIANTE'"
   ]
  },
  {
   "cell_type": "code",
   "execution_count": 203,
   "metadata": {},
   "outputs": [
    {
     "data": {
      "text/plain": [
       "Index(['NOMBRE', 'IDENTIFICACIÓN', 'LUGAR DE EXPEDICIÒN DEL DOCUMENTO ',\n",
       "       'TELÉFONO', 'DIRECCIÓN', 'EDAD', 'SEXO M(1) F (2)',\n",
       "       'LUGAR DONDE RESIDE', 'DEPARTAMENTO/MUNICIPIO', 'ESTRATO', 'AREA ',\n",
       "       'HACE CUANTO TIEMPO VIVE EN ESE LUGAR',\n",
       "       'CUANTAS PERSONAS COMPONEN SU HOGAR', 'GRUPO POBLACIONAL ',\n",
       "       'TIPO DE USUARIO EN EL SGSSS', 'ESCOLARIDAD',\n",
       "       'LE HAN HECHO ENCUESTAS DE SISBEN ', 'EN QUE NIVEL LO CALIFICARON ',\n",
       "       'DONDE VIVIA ANTERIORMENTE ', 'RAZONES POR LAS QUE SE MUDO ',\n",
       "       'OFICIO ACTUAL', 'TIEMPO QUE LLEVA LABORANDO EN SU OFICIO ACTUAL',\n",
       "       'OFICIOS DESEMPEÑADOS ANTERIORMENTE',\n",
       "       'USTED O ALGÚN MIEMBRO DE SU FAMILIA REALIZA QUEMA DE AMALGAMA EN CASA',\n",
       "       'USTED O ALGÚN MIEMBRO DE SU FAMILIA QUE VIVA CON USTED ALMACENA MERCURIO EN CASA',\n",
       "       'A QUE DISTANCIA SE ENCUENTRA UBICADA SU CASA DE LA COMPRAVENTA DE ORO O EL SITIO DONDE SE QUEMA LA AMALGAMA'],\n",
       "      dtype='object')"
      ]
     },
     "execution_count": 203,
     "metadata": {},
     "output_type": "execute_result"
    }
   ],
   "source": [
    "# Identificar columnas con valores nulos en df_SM190_a_SMBL255\n",
    "columnas_con_nulos = df_SM190_a_SMBL255.columns[df_SM190_a_SMBL255.isnull().any()]\n",
    "columnas_con_nulos"
   ]
  },
  {
   "cell_type": "code",
   "execution_count": 204,
   "metadata": {},
   "outputs": [
    {
     "data": {
      "text/plain": [
       "array([1, 2, 'F', nan], dtype=object)"
      ]
     },
     "execution_count": 204,
     "metadata": {},
     "output_type": "execute_result"
    }
   ],
   "source": [
    "df_SM190_a_SMBL255['SEXO M(1) F (2)'].unique()"
   ]
  },
  {
   "cell_type": "code",
   "execution_count": 205,
   "metadata": {},
   "outputs": [],
   "source": [
    "median = trunc(df_SM190_a_SMBL255['EDAD'].median())\n",
    "df_SM190_a_SMBL255['EDAD'].fillna(median, inplace=True)"
   ]
  },
  {
   "cell_type": "markdown",
   "metadata": {},
   "source": [
    "## Limpieza de Nan's y unificación de valores: SM190 - SMBL255"
   ]
  },
  {
   "cell_type": "code",
   "execution_count": 206,
   "metadata": {},
   "outputs": [
    {
     "data": {
      "text/plain": [
       "Index(['NOMBRE', 'IDENTIFICACIÓN', 'LUGAR DE EXPEDICIÒN DEL DOCUMENTO ',\n",
       "       'TELÉFONO', 'DIRECCIÓN', 'SEXO M(1) F (2)', 'LUGAR DONDE RESIDE',\n",
       "       'DEPARTAMENTO/MUNICIPIO', 'ESTRATO', 'AREA ',\n",
       "       'HACE CUANTO TIEMPO VIVE EN ESE LUGAR',\n",
       "       'CUANTAS PERSONAS COMPONEN SU HOGAR', 'GRUPO POBLACIONAL ',\n",
       "       'TIPO DE USUARIO EN EL SGSSS', 'ESCOLARIDAD',\n",
       "       'LE HAN HECHO ENCUESTAS DE SISBEN ', 'EN QUE NIVEL LO CALIFICARON ',\n",
       "       'DONDE VIVIA ANTERIORMENTE ', 'RAZONES POR LAS QUE SE MUDO ',\n",
       "       'OFICIO ACTUAL', 'TIEMPO QUE LLEVA LABORANDO EN SU OFICIO ACTUAL',\n",
       "       'OFICIOS DESEMPEÑADOS ANTERIORMENTE',\n",
       "       'USTED O ALGÚN MIEMBRO DE SU FAMILIA REALIZA QUEMA DE AMALGAMA EN CASA',\n",
       "       'USTED O ALGÚN MIEMBRO DE SU FAMILIA QUE VIVA CON USTED ALMACENA MERCURIO EN CASA',\n",
       "       'A QUE DISTANCIA SE ENCUENTRA UBICADA SU CASA DE LA COMPRAVENTA DE ORO O EL SITIO DONDE SE QUEMA LA AMALGAMA'],\n",
       "      dtype='object')"
      ]
     },
     "execution_count": 206,
     "metadata": {},
     "output_type": "execute_result"
    }
   ],
   "source": [
    "columnas_con_nulos = df_SM190_a_SMBL255.columns[df_SM190_a_SMBL255.isnull().any()]\n",
    "columnas_con_nulos"
   ]
  },
  {
   "cell_type": "code",
   "execution_count": 207,
   "metadata": {},
   "outputs": [],
   "source": [
    "# Reemplazar valores nulos en 'LUGAR DONDE RESIDE' con 'CHIMI'\n",
    "df_SM190_a_SMBL255['LUGAR DONDE RESIDE'].fillna('No especifica', inplace=True)\n",
    "\n",
    "# Calcular la moda de la columna 'ESTRATO'\n",
    "moda_estrato = df_SM190_a_SMBL255['ESTRATO'].mode().iloc[0]\n",
    "# Imputar la moda a los valores nulos en 'ESTRATO'\n",
    "df_SM190_a_SMBL255['ESTRATO'].fillna(moda_estrato, inplace=True)\n",
    "\n",
    "# Reemplazar '3 DÍAS' por '3' en la columna 'HACE CUANTO TIEMPO VIVE EN ESE LUGAR'\n",
    "df_SM190_a_SMBL255['HACE CUANTO TIEMPO VIVE EN ESE LUGAR'] = df_SM190_a_SMBL255['HACE CUANTO TIEMPO VIVE EN ESE LUGAR'].str.replace('3 DÍAS', '3')\n",
    "# Convertir la columna 'HACE CUANTO TIEMPO VIVE EN ESE LUGAR' a tipo entero\n",
    "df_SM190_a_SMBL255['HACE CUANTO TIEMPO VIVE EN ESE LUGAR'] = df_SM190_a_SMBL255['HACE CUANTO TIEMPO VIVE EN ESE LUGAR'].astype(float).astype(pd.Int32Dtype())\n",
    "# Calcular la media truncada de la columna 'HACE CUANTO TIEMPO VIVE EN ESE LUGAR'\n",
    "media_truncada = df_SM190_a_SMBL255['HACE CUANTO TIEMPO VIVE EN ESE LUGAR'].mean().round(decimals=0)\n",
    "# Imputar la media truncada a los valores nulos en 'HACE CUANTO TIEMPO VIVE EN ESE LUGAR'\n",
    "df_SM190_a_SMBL255['HACE CUANTO TIEMPO VIVE EN ESE LUGAR'].fillna(media_truncada, inplace=True)\n",
    "\n",
    "# Calcular la moda de la columna 'GRUPO POBLACIONAL'\n",
    "moda_grupo_poblacional = df_SM190_a_SMBL255['GRUPO POBLACIONAL '].mode().iloc[0]\n",
    "# Imputar la moda a los valores nulos en 'GRUPO POBLACIONAL'\n",
    "df_SM190_a_SMBL255.loc[df_SM190_a_SMBL255['GRUPO POBLACIONAL '].isnull(), 'GRUPO POBLACIONAL '] = moda_grupo_poblacional\n",
    "\n",
    "# Calcular la moda de la columna 'TIPO DE USUARIO EN EL SGSSS'\n",
    "moda_tipo_usuario_sgsss = df_SM190_a_SMBL255['TIPO DE USUARIO EN EL SGSSS'].mode().iloc[0]\n",
    "# Imputar la moda a los valores nulos en 'TIPO DE USUARIO EN EL SGSSS'\n",
    "df_SM190_a_SMBL255.loc[df_SM190_a_SMBL255['TIPO DE USUARIO EN EL SGSSS'].isnull(), 'TIPO DE USUARIO EN EL SGSSS'] = moda_tipo_usuario_sgsss\n",
    "\n",
    "# Reemplazar 'POBREZA EXTREMA' por 'A1'\n",
    "df_SM190_a_SMBL255['EN QUE NIVEL LO CALIFICARON '].replace({'POBREZA EXTREMA': 'A1'}, inplace=True)\n",
    "# Reemplazar los valores numéricos en 'EN QUE NIVEL LO CALIFICARON '\n",
    "df_SM190_a_SMBL255['EN QUE NIVEL LO CALIFICARON '].replace({1: 'A1', 2: 'A2'}, inplace=True)\n",
    "# Reemplazar 'B' por 'B1'\n",
    "df_SM190_a_SMBL255['EN QUE NIVEL LO CALIFICARON '].replace({'B': 'B1'}, inplace=True)\n",
    "# Imputar la moda a los valores 'NO SABE' y NaN en 'EN QUE NIVEL LO CALIFICARON '\n",
    "moda_nivel_calificacion = df_SM190_a_SMBL255['EN QUE NIVEL LO CALIFICARON '].mode().iloc[0]\n",
    "df_SM190_a_SMBL255['EN QUE NIVEL LO CALIFICARON '].fillna(moda_nivel_calificacion, inplace=True)\n",
    "df_SM190_a_SMBL255['EN QUE NIVEL LO CALIFICARON '].replace({'NO SABE': moda_nivel_calificacion}, inplace=True)\n",
    "\n",
    "# Reemplazar NaN por 6 y 'NO APLICA' por 6 en 'DONDE VIVIA ANTERIORMENTE'\n",
    "df_SM190_a_SMBL255['DONDE VIVIA ANTERIORMENTE '].replace({pd.NA: 6, 'NO APLICA': 6}, inplace=True)\n",
    "\n",
    "# 16 SERÁ 'NO RESPONDE' Y 15 SERÁ 'NO APLICA'\n",
    "df_SM190_a_SMBL255['RAZONES POR LAS QUE SE MUDO '].replace({pd.NA: 16, 'NO APLICA/NO RESPONDE': 15}, inplace=True)\n",
    "\n",
    "\n",
    "# Reemplazar '3 DÍAS' por 3 y '3 MESES' por 0.25\n",
    "df_SM190_a_SMBL255['TIEMPO QUE LLEVA LABORANDO EN SU OFICIO ACTUAL'].replace({'3 DÍAS': 3, '3 MESES': 0.25}, inplace=True)\n",
    "# Reemplazar 'NO APLICA' por 10\n",
    "df_SM190_a_SMBL255['TIEMPO QUE LLEVA LABORANDO EN SU OFICIO ACTUAL'].replace({'NO APLICA': 10}, inplace=True)\n",
    "# Convertir la columna 'TIEMPO QUE LLEVA LABORANDO EN SU OFICIO ACTUAL' a tipo float\n",
    "df_SM190_a_SMBL255['TIEMPO QUE LLEVA LABORANDO EN SU OFICIO ACTUAL'] = df_SM190_a_SMBL255['TIEMPO QUE LLEVA LABORANDO EN SU OFICIO ACTUAL'].astype(float)\n",
    "# Calcular la media truncada de la columna 'TIEMPO QUE LLEVA LABORANDO EN SU OFICIO ACTUAL'\n",
    "media_truncada_tiempo = df_SM190_a_SMBL255['TIEMPO QUE LLEVA LABORANDO EN SU OFICIO ACTUAL'].mean().round(decimals=0)\n",
    "# Imputar la media truncada a los valores NaN en 'TIEMPO QUE LLEVA LABORANDO EN SU OFICIO ACTUAL'\n",
    "df_SM190_a_SMBL255['TIEMPO QUE LLEVA LABORANDO EN SU OFICIO ACTUAL'].fillna(media_truncada_tiempo, inplace=True)\n",
    "\n",
    "\n",
    "# Reemplazar 'NO VIVE CERCA' por 4\n",
    "df_SM190_a_SMBL255['A QUE DISTANCIA SE ENCUENTRA UBICADA SU CASA DE LA COMPRAVENTA DE ORO O EL SITIO DONDE SE QUEMA LA AMALGAMA'].replace({'NO VIVE CERCA': 4}, inplace=True)\n",
    "# Reemplazar 'A 2KM' por 4\n",
    "df_SM190_a_SMBL255['A QUE DISTANCIA SE ENCUENTRA UBICADA SU CASA DE LA COMPRAVENTA DE ORO O EL SITIO DONDE SE QUEMA LA AMALGAMA'].replace({'A 2KM': 4}, inplace=True)\n",
    "# Calcular la moda de la columna 'A QUE DISTANCIA SE ENCUENTRA UBICADA SU CASA DE LA COMPRAVENTA DE ORO O EL SITIO DONDE SE QUEMA LA AMALGAMA'\n",
    "moda_distancia = df_SM190_a_SMBL255['A QUE DISTANCIA SE ENCUENTRA UBICADA SU CASA DE LA COMPRAVENTA DE ORO O EL SITIO DONDE SE QUEMA LA AMALGAMA'].mode().iloc[0]\n",
    "# Imputar la moda a los valores NaN en 'A QUE DISTANCIA SE ENCUENTRA UBICADA SU CASA DE LA COMPRAVENTA DE ORO O EL SITIO DONDE SE QUEMA LA AMALGAMA'\n",
    "df_SM190_a_SMBL255['A QUE DISTANCIA SE ENCUENTRA UBICADA SU CASA DE LA COMPRAVENTA DE ORO O EL SITIO DONDE SE QUEMA LA AMALGAMA'].fillna(moda_distancia, inplace=True)\n",
    "\n",
    "\n"
   ]
  },
  {
   "cell_type": "code",
   "execution_count": 208,
   "metadata": {},
   "outputs": [],
   "source": [
    "# Imputar 'No sabe/no responde' a los valores nulos en 'AREA'\n",
    "df_SM190_a_SMBL255['AREA '].fillna('No sabe/no responde', inplace=True)\n",
    "\n",
    "\n",
    "# Cambiar 'F' por 2 en la columna 'SEXO M(1) F (2)'\n",
    "df_SM190_a_SMBL255['SEXO M(1) F (2)'].replace({'F': 2}, inplace=True)\n",
    "# Calcular la moda de la columna 'SEXO M(1) F (2)'\n",
    "moda_sexo = df_SM190_a_SMBL255['SEXO M(1) F (2)'].mode().iloc[0]\n",
    "# Imputar la moda a los valores nulos en 'SEXO M(1) F (2)'\n",
    "df_SM190_a_SMBL255['SEXO M(1) F (2)'].fillna(moda_sexo, inplace=True)\n",
    "\n",
    "\n",
    "df_SM190_a_SMBL255['DEPARTAMENTO/MUNICIPIO'].fillna(\"No sabe/no responde\", inplace=True)\n",
    "\n",
    "#df_SM190_a_SMBL255['CUANTAS PERSONAS COMPONEN SU HOGAR'].fillna(\"No sabe/no responde\", inplace=True)\n",
    "\n",
    "df_SM190_a_SMBL255['CUANTAS PERSONAS COMPONEN SU HOGAR'].fillna(df_SM190_a_SMBL255['CUANTAS PERSONAS COMPONEN SU HOGAR'].median(), inplace=True)\n",
    "\n",
    "df_SM190_a_SMBL255['ESCOLARIDAD'].fillna(trunc(df_SM190_a_SMBL255['ESCOLARIDAD'].median()), inplace=True)\n",
    "\n",
    "df_SM190_a_SMBL255['LE HAN HECHO ENCUESTAS DE SISBEN '].fillna(3., inplace=True)\n",
    "df_SM190_a_SMBL255['LE HAN HECHO ENCUESTAS DE SISBEN '].astype('int')\n",
    "\n",
    "df_SM190_a_SMBL255['OFICIO ACTUAL'].fillna('No sabe/No responde', inplace=True)\n",
    "\n",
    "# Crear máscaras booleanas basadas en patrones\n",
    "mask_mineria = df_SM190_a_SMBL255['OFICIOS DESEMPEÑADOS ANTERIORMENTE'].str.contains('MIN', case=False, na=False)\n",
    "mask_construccion = df_SM190_a_SMBL255['OFICIOS DESEMPEÑADOS ANTERIORMENTE'].str.contains('CONSTRUCCIÓN', case=False, na=False)\n",
    "mask_pesca = df_SM190_a_SMBL255['OFICIOS DESEMPEÑADOS ANTERIORMENTE'].str.contains('PESCA', case=False, na=False)\n",
    "mask_ama_de_casa = df_SM190_a_SMBL255['OFICIOS DESEMPEÑADOS ANTERIORMENTE'].str.contains('AMA DE CASA', case=False, na=False)\n",
    "# Actualizar los valores según las condiciones\n",
    "df_SM190_a_SMBL255.loc[mask_mineria, 'OFICIOS DESEMPEÑADOS ANTERIORMENTE'] = 'MINERÍA'\n",
    "df_SM190_a_SMBL255.loc[mask_construccion, 'OFICIOS DESEMPEÑADOS ANTERIORMENTE'] = 'CONSTRUCCIÓN'\n",
    "df_SM190_a_SMBL255.loc[mask_pesca, 'OFICIOS DESEMPEÑADOS ANTERIORMENTE'] = 'PESCA'\n",
    "df_SM190_a_SMBL255.loc[mask_ama_de_casa, 'OFICIOS DESEMPEÑADOS ANTERIORMENTE'] = 'AMA DE CASA'\n",
    "# imputar nulos\n",
    "df_SM190_a_SMBL255['OFICIOS DESEMPEÑADOS ANTERIORMENTE'].fillna(\"No aplica/No tuvo\", inplace=True)\n",
    "\n",
    "# Reemplazar '2-QUEMAN EN LA MINA' con 2 en la columna 'USTED O ALGÚN MIEMBRO DE SU FAMILIA REALIZA QUEMA DE AMALGAMA EN CASA'\n",
    "df_SM190_a_SMBL255['USTED O ALGÚN MIEMBRO DE SU FAMILIA REALIZA QUEMA DE AMALGAMA EN CASA'].replace({'2-QUEMAN EN LA MINA': 2}, inplace=True)\n",
    "df_SM190_a_SMBL255['USTED O ALGÚN MIEMBRO DE SU FAMILIA REALIZA QUEMA DE AMALGAMA EN CASA'].fillna(df_SM190_a_SMBL255['USTED O ALGÚN MIEMBRO DE SU FAMILIA REALIZA QUEMA DE AMALGAMA EN CASA'].mode().iloc[0], inplace=True)\n",
    "\n",
    "moda = df_SM190_a_SMBL255['USTED O ALGÚN MIEMBRO DE SU FAMILIA QUE VIVA CON USTED ALMACENA MERCURIO EN CASA'].mode().iloc[0]\n",
    "df_SM190_a_SMBL255['USTED O ALGÚN MIEMBRO DE SU FAMILIA QUE VIVA CON USTED ALMACENA MERCURIO EN CASA'].fillna(moda, inplace = True)\n"
   ]
  },
  {
   "cell_type": "code",
   "execution_count": 209,
   "metadata": {},
   "outputs": [],
   "source": [
    "mask = df_SM190_a_SMBL255['USTED O ALGÚN MIEMBRO DE SU FAMILIA REALIZA QUEMA DE AMALGAMA EN CASA'] == '2-QUEMAN EN LA MINA'"
   ]
  },
  {
   "cell_type": "markdown",
   "metadata": {},
   "source": [
    "## Limpiar SM 001 a 189"
   ]
  },
  {
   "cell_type": "code",
   "execution_count": 213,
   "metadata": {},
   "outputs": [
    {
     "data": {
      "text/plain": [
       "Index(['IDENTIFICACIÓN', 'LUGAR DE EXPEDICIÒN DEL DOCUMENTO ', 'TELÉFONO',\n",
       "       'DIRECCIÓN'],\n",
       "      dtype='object')"
      ]
     },
     "execution_count": 213,
     "metadata": {},
     "output_type": "execute_result"
    }
   ],
   "source": [
    "columnas_con_nulos = df_SM001_A_SM189.columns[df_SM001_A_SM189.isnull().any()]\n",
    "columnas_con_nulos"
   ]
  },
  {
   "cell_type": "code",
   "execution_count": 211,
   "metadata": {},
   "outputs": [
    {
     "data": {
      "text/plain": [
       "array([nan,  8., 12.,  6., 11.,  2., 13.,  4.,  3.])"
      ]
     },
     "execution_count": 211,
     "metadata": {},
     "output_type": "execute_result"
    }
   ],
   "source": [
    "df_SM001_A_SM189['RAZONES POR LAS QUE SE MUDO '].unique()"
   ]
  },
  {
   "cell_type": "code",
   "execution_count": 212,
   "metadata": {},
   "outputs": [],
   "source": [
    "df_SM001_A_SM189['EDAD'].replace({'8 MESES ': 8/12}, inplace=True)\n",
    "df_SM001_A_SM189['EDAD'].fillna(df_SM001_A_SM189['EDAD'].median(), inplace=True)\n",
    "\n",
    "df_SM001_A_SM189['LUGAR DONDE RESIDE'].fillna('No responde', inplace=True)\n",
    "\n",
    "df_SM001_A_SM189['DEPARTAMENTO/MUNICIPIO'].fillna('No responde', inplace=True)\n",
    "\n",
    "df_SM001_A_SM189['ESTRATO'].fillna(1., inplace=True)\n",
    "\n",
    "df_SM001_A_SM189['AREA '].fillna(df_SM001_A_SM189['AREA '].mode().iloc[0], inplace=True)\n",
    "\n",
    "\n",
    "# Extraer los números de la columna 'HACE CUANTO TIEMPO VIVE EN ESE LUGAR'\n",
    "df_SM001_A_SM189['HACE CUANTO TIEMPO VIVE EN ESE LUGAR'] = df_SM001_A_SM189['HACE CUANTO TIEMPO VIVE EN ESE LUGAR'].str.extract('(\\d+)').astype(float)\n",
    "# Imputar 8/12 a los que contienen '8 MESES'\n",
    "df_SM001_A_SM189['HACE CUANTO TIEMPO VIVE EN ESE LUGAR'] = df_SM001_A_SM189['HACE CUANTO TIEMPO VIVE EN ESE LUGAR'].replace({'8 MESES': 8/12})\n",
    "df_SM001_A_SM189['HACE CUANTO TIEMPO VIVE EN ESE LUGAR'].fillna(df_SM001_A_SM189['HACE CUANTO TIEMPO VIVE EN ESE LUGAR'].mode().iloc[0], inplace=True)\n",
    "\n",
    "\n",
    "df_SM001_A_SM189['CUANTAS PERSONAS COMPONEN SU HOGAR'].fillna(df_SM001_A_SM189['CUANTAS PERSONAS COMPONEN SU HOGAR'].median(), inplace=True)\n",
    "\n",
    "df_SM001_A_SM189['GRUPO POBLACIONAL '].fillna(df_SM001_A_SM189['GRUPO POBLACIONAL '].mode().iloc[0], inplace=True)\n",
    "\n",
    "# Extraer los números de la columna 'TIPO DE USUARIO EN EL SGSSS'\n",
    "df_SM001_A_SM189['TIPO DE USUARIO EN EL SGSSS'] = df_SM001_A_SM189['TIPO DE USUARIO EN EL SGSSS'].str.extract('(\\d+)').astype(float)\n",
    "df_SM001_A_SM189['TIPO DE USUARIO EN EL SGSSS'].fillna(df_SM001_A_SM189['TIPO DE USUARIO EN EL SGSSS'].mode().iloc[0], inplace=True)\n",
    "\n",
    "df_SM001_A_SM189['ESCOLARIDAD'].fillna(df_SM001_A_SM189['ESCOLARIDAD'].mode().iloc[0], inplace=True)\n",
    "\n",
    "df_SM001_A_SM189['LE HAN HECHO ENCUESTAS DE SISBEN '].fillna(3., inplace=True)\n",
    "df_SM001_A_SM189['LE HAN HECHO ENCUESTAS DE SISBEN '].astype('int')\n",
    "\n",
    "\n",
    "# Calcular la moda de la columna 'EN QUE NIVEL LO CALIFICARON'\n",
    "moda_nivel_calificacion = df_SM001_A_SM189['EN QUE NIVEL LO CALIFICARON '].mode().iloc[0]\n",
    "# Imputar la moda a los valores nulos en 'EN QUE NIVEL LO CALIFICARON '\n",
    "df_SM001_A_SM189['EN QUE NIVEL LO CALIFICARON '].fillna(moda_nivel_calificacion, inplace=True)\n",
    "# Reemplazar 1. por 'A1' y 2. por 'A2'\n",
    "df_SM001_A_SM189['EN QUE NIVEL LO CALIFICARON '].replace({1.: 'A1', 2.: 'A2'}, inplace=True)\n",
    "\n",
    "\n",
    "df_SM001_A_SM189['DONDE VIVIA ANTERIORMENTE '].fillna(df_SM001_A_SM189['DONDE VIVIA ANTERIORMENTE '].mode().iloc[0], inplace=True)\n",
    "\n",
    "df_SM001_A_SM189['RAZONES POR LAS QUE SE MUDO '].replace({'NO APLICA/NO RESPONDE': 15}, inplace=True) # 15 ES NOAPLICA/NO RESPONDE\n",
    "df_SM001_A_SM189['RAZONES POR LAS QUE SE MUDO '].fillna(df_SM001_A_SM189['RAZONES POR LAS QUE SE MUDO '].mode().iloc[0], inplace=True)\n",
    "\n",
    "df_SM001_A_SM189['OFICIO ACTUAL'].fillna('NO TIENE/NO TRABAJA', inplace=True)\n",
    "\n",
    "\n",
    "# Extraer los números si hay 'AÑO' en el string\n",
    "df_SM001_A_SM189['TIEMPO QUE LLEVA LABORANDO EN SU OFICIO ACTUAL'] = df_SM001_A_SM189['TIEMPO QUE LLEVA LABORANDO EN SU OFICIO ACTUAL'].str.extract('(\\d+)').astype(float)\n",
    "# Reemplazar '1 MES' con 1/12, '4 MESES' con 4/12, '3 MESES' con 3/12 y 'TRABAJO HASTA' con 75\n",
    "df_SM001_A_SM189['TIEMPO QUE LLEVA LABORANDO EN SU OFICIO ACTUAL'].replace({'1 MES': 1/12, '4 MESES': 4/12, '3 MESES': 3/12}, inplace=True)\n",
    "# Reemplazar 'TRABAJO HASTA' con 75 en la columna 'TIEMPO QUE LLEVA LABORANDO EN SU OFICIO ACTUAL'\n",
    "df_SM001_A_SM189['TIEMPO QUE LLEVA LABORANDO EN SU OFICIO ACTUAL'] = df_SM001_A_SM189['TIEMPO QUE LLEVA LABORANDO EN SU OFICIO ACTUAL'].replace({'TRABAJO HASTA': 75}, regex=True)\n",
    "# Imputar la mediana a los valores nulos en 'TIEMPO QUE LLEVA LABORANDO EN SU OFICIO ACTUAL'\n",
    "mediana_tiempo_laborando = df_SM001_A_SM189['TIEMPO QUE LLEVA LABORANDO EN SU OFICIO ACTUAL'].median()\n",
    "df_SM001_A_SM189['TIEMPO QUE LLEVA LABORANDO EN SU OFICIO ACTUAL'].fillna(mediana_tiempo_laborando, inplace=True)\n",
    "\n",
    "\n",
    "\n",
    "# Imputar 'NO RESPONDE' a los valores nulos en 'OFICIOS DESEMPEÑADOS ANTERIORMENTE'\n",
    "df_SM001_A_SM189['OFICIOS DESEMPEÑADOS ANTERIORMENTE'].fillna('NO RESPONDE', inplace=True)\n",
    "# Eliminar paréntesis y su contenido\n",
    "df_SM001_A_SM189['OFICIOS DESEMPEÑADOS ANTERIORMENTE'] = df_SM001_A_SM189['OFICIOS DESEMPEÑADOS ANTERIORMENTE'].str.replace(r'\\(.*\\)', '')\n",
    "# Reemplazar 'MIN' por 'MINERÍA'\n",
    "df_SM001_A_SM189['OFICIOS DESEMPEÑADOS ANTERIORMENTE'] = df_SM001_A_SM189['OFICIOS DESEMPEÑADOS ANTERIORMENTE'].str.replace(r'MIN', 'MINERÍA')\n",
    "# Cambiar 'MOTOTAXI' a 'MOTOTAXISTA'\n",
    "df_SM001_A_SM189['OFICIOS DESEMPEÑADOS ANTERIORMENTE'] = df_SM001_A_SM189['OFICIOS DESEMPEÑADOS ANTERIORMENTE'].replace({'MOTOTAXI': 'MOTOTAXISTA'})\n",
    "# Cambiar 'AMA DE' a 'AMA DE CASA'\n",
    "df_SM001_A_SM189['OFICIOS DESEMPEÑADOS ANTERIORMENTE'] = df_SM001_A_SM189['OFICIOS DESEMPEÑADOS ANTERIORMENTE'].replace({'AMA DE': 'AMA DE CASA'})\n",
    "# Cambiar 'AGRICULT' a 'AGRICULTURA'\n",
    "df_SM001_A_SM189['OFICIOS DESEMPEÑADOS ANTERIORMENTE'] = df_SM001_A_SM189['OFICIOS DESEMPEÑADOS ANTERIORMENTE'].replace({'AGRICULT': 'AGRICULTURA'})\n",
    "# Cambiar 'CONSTRUC' a 'CONSTRUCCIÓN'\n",
    "df_SM001_A_SM189['OFICIOS DESEMPEÑADOS ANTERIORMENTE'] = df_SM001_A_SM189['OFICIOS DESEMPEÑADOS ANTERIORMENTE'].replace({'CONSTRUC': 'CONSTRUCCIÓN'})\n",
    "# Cambiar 'ESTUDIA' a 'ESTUDIANTE'\n",
    "df_SM001_A_SM189['OFICIOS DESEMPEÑADOS ANTERIORMENTE'] = df_SM001_A_SM189['OFICIOS DESEMPEÑADOS ANTERIORMENTE'].replace({'ESTUDIA': 'ESTUDIANTE'})\n",
    "\n",
    "\n",
    "\n",
    "df_SM001_A_SM189['USTED O ALGÚN MIEMBRO DE SU FAMILIA REALIZA QUEMA DE AMALGAMA EN CASA'].fillna(df_SM001_A_SM189['USTED O ALGÚN MIEMBRO DE SU FAMILIA REALIZA QUEMA DE AMALGAMA EN CASA'].mode().iloc[0], inplace=True)\n",
    "\n",
    "df_SM001_A_SM189['USTED O ALGÚN MIEMBRO DE SU FAMILIA QUE VIVA CON USTED ALMACENA MERCURIO EN CASA'].fillna(df_SM001_A_SM189['USTED O ALGÚN MIEMBRO DE SU FAMILIA QUE VIVA CON USTED ALMACENA MERCURIO EN CASA'].mode().iloc[0], inplace=True)\n",
    "\n",
    "df_SM001_A_SM189['A QUE DISTANCIA SE ENCUENTRA UBICADA SU CASA DE LA COMPRAVENTA DE ORO O EL SITIO DONDE SE QUEMA LA AMALGAMA'].fillna(df_SM001_A_SM189['A QUE DISTANCIA SE ENCUENTRA UBICADA SU CASA DE LA COMPRAVENTA DE ORO O EL SITIO DONDE SE QUEMA LA AMALGAMA'].mode().iloc[0], inplace=True)"
   ]
  },
  {
   "cell_type": "markdown",
   "metadata": {},
   "source": [
    "## Finalmente, limpiar MH-UC"
   ]
  },
  {
   "cell_type": "code",
   "execution_count": 214,
   "metadata": {},
   "outputs": [
    {
     "data": {
      "text/plain": [
       "Index(['NOMBRE', 'IDENTIFICACIÓN', 'LUGAR DE EXPEDICIÒN DEL DOCUMENTO ',\n",
       "       'TELÉFONO', 'DIRECCIÓN', 'EDAD', 'SEXO M(1) F (2)',\n",
       "       'LUGAR DONDE RESIDE', 'DEPARTAMENTO/MUNICIPIO', 'ESTRATO', 'AREA ',\n",
       "       'HACE CUANTO TIEMPO VIVE EN ESE LUGAR',\n",
       "       'CUANTAS PERSONAS COMPONEN SU HOGAR', 'GRUPO POBLACIONAL ',\n",
       "       'TIPO DE USUARIO EN EL SGSSS', 'ESCOLARIDAD',\n",
       "       'LE HAN HECHO ENCUESTAS DE SISBEN ', 'EN QUE NIVEL LO CALIFICARON ',\n",
       "       'DONDE VIVIA ANTERIORMENTE ', 'RAZONES POR LAS QUE SE MUDO ',\n",
       "       'OFICIO ACTUAL', 'TIEMPO QUE LLEVA LABORANDO EN SU OFICIO ACTUAL',\n",
       "       'OFICIOS DESEMPEÑADOS ANTERIORMENTE',\n",
       "       'USTED O ALGÚN MIEMBRO DE SU FAMILIA REALIZA QUEMA DE AMALGAMA EN CASA',\n",
       "       'USTED O ALGÚN MIEMBRO DE SU FAMILIA QUE VIVA CON USTED ALMACENA MERCURIO EN CASA',\n",
       "       'A QUE DISTANCIA SE ENCUENTRA UBICADA SU CASA DE LA COMPRAVENTA DE ORO O EL SITIO DONDE SE QUEMA LA AMALGAMA'],\n",
       "      dtype='object')"
      ]
     },
     "execution_count": 214,
     "metadata": {},
     "output_type": "execute_result"
    }
   ],
   "source": [
    "columnas_con_nulos = df_UC.columns[df_UC.isnull().any()]\n",
    "columnas_con_nulos"
   ]
  },
  {
   "cell_type": "code",
   "execution_count": 240,
   "metadata": {},
   "outputs": [
    {
     "data": {
      "text/plain": [
       "array([4, 0, 3, nan], dtype=object)"
      ]
     },
     "execution_count": 240,
     "metadata": {},
     "output_type": "execute_result"
    }
   ],
   "source": [
    "df_UC['A QUE DISTANCIA SE ENCUENTRA UBICADA SU CASA DE LA COMPRAVENTA DE ORO O EL SITIO DONDE SE QUEMA LA AMALGAMA'].unique()"
   ]
  },
  {
   "cell_type": "code",
   "execution_count": 243,
   "metadata": {},
   "outputs": [],
   "source": [
    "df_UC['EDAD'].fillna(df_UC['EDAD'].median(), inplace=True)\n",
    "\n",
    "df_UC['SEXO M(1) F (2)'].fillna(df_UC['SEXO M(1) F (2)'].mode().iloc[0], inplace=True)\n",
    "\n",
    "df_UC['LUGAR DONDE RESIDE'].fillna(df_UC['LUGAR DONDE RESIDE'].mode().iloc[0],inplace=True)\n",
    "\n",
    "df_UC['DEPARTAMENTO/MUNICIPIO'].fillna(df_UC['DEPARTAMENTO/MUNICIPIO'].mode().iloc[0], inplace=True)\n",
    "\n",
    "df_UC['ESTRATO'].fillna(df_UC['ESTRATO'].mode().iloc[0], inplace=True)\n",
    "\n",
    "df_UC['AREA '].fillna(df_UC['AREA '].mode().iloc[0], inplace=True)\n",
    "\n",
    "df_UC['HACE CUANTO TIEMPO VIVE EN ESE LUGAR'].fillna(df_UC['HACE CUANTO TIEMPO VIVE EN ESE LUGAR'].mode().iloc[0], inplace=True)\n",
    "\n",
    "df_UC['CUANTAS PERSONAS COMPONEN SU HOGAR'].fillna(df_UC['CUANTAS PERSONAS COMPONEN SU HOGAR'].mode().iloc[0], inplace=True)\n",
    "\n",
    "df_UC['GRUPO POBLACIONAL '].fillna(df_UC['GRUPO POBLACIONAL '].mode().iloc[0], inplace=True)\n",
    "\n",
    "df_UC['TIPO DE USUARIO EN EL SGSSS'].replace({'6 BENEFICIARIA': 6}, inplace=True)\n",
    "df_UC['TIPO DE USUARIO EN EL SGSSS'].fillna(df_UC['TIPO DE USUARIO EN EL SGSSS'].mode().iloc[0], inplace=True)\n",
    "\n",
    "df_UC['ESCOLARIDAD'].fillna(df_UC['ESCOLARIDAD'].mode().iloc[0], inplace=True)\n",
    "\n",
    "df_UC['LE HAN HECHO ENCUESTAS DE SISBEN '].fillna(df_UC['LE HAN HECHO ENCUESTAS DE SISBEN '].mode().iloc[0], inplace=True)\n",
    "\n",
    "\n",
    "# Reemplazar valores numéricos con etiquetas correspondientes\n",
    "df_UC['EN QUE NIVEL LO CALIFICARON '].replace({1: 'A1', 2: 'A2', 3: 'A3'}, inplace=True)\n",
    "# Imputar la moda a los valores nulos en 'EN QUE NIVEL LO CALIFICARON '\n",
    "moda_nivel_calificacion_UC = df_UC['EN QUE NIVEL LO CALIFICARON '].mode().iloc[0]\n",
    "df_UC['EN QUE NIVEL LO CALIFICARON '].fillna(moda_nivel_calificacion_UC, inplace=True)\n",
    "\n",
    "\n",
    "df_UC['DONDE VIVIA ANTERIORMENTE '].fillna(df_UC['DONDE VIVIA ANTERIORMENTE '].mode().iloc[0], inplace=True)\n",
    "\n",
    "df_UC['RAZONES POR LAS QUE SE MUDO '].fillna('No aplica/No responde', inplace=True)\n",
    "\n",
    "\n",
    "# Imputar 'PESCADOR' a los valores que contienen 'PESCADOR'\n",
    "df_UC['OFICIO ACTUAL'].replace({r'.*PESCADOR.*': 'PESCADOR'}, regex=True, inplace=True)\n",
    "# Reemplazar valores según las especificaciones dadas\n",
    "df_UC['OFICIO ACTUAL'].replace({r'.*PESCADOR.*': 'PESCADOR',\n",
    "                                r'.*SOLDADOR.*': 'SOLDADOR',\n",
    "                                r'.*RECICLA.*': 'RECICLAJE',\n",
    "                                r'.*ESTUDIANTE.*': 'ESTUDIANTE',\n",
    "                                r'.*QUIMICO.*': 'QUÍMICO',\n",
    "                                r'.*ELECTRICI.*': 'ELECTRICISTA',\n",
    "                                r'.*DOCENTE.*|.*PROFESOR.*': 'PROFESOR',\n",
    "                                r'.*AMA DE.*': 'AMA DE CASA',\n",
    "                                r'.*FRITOS.*': 'VENDEDOR DE FRITOS',\n",
    "                                r'.*HOTEL.*': 'HOTELERÍA',\n",
    "                                r'.*TURISMO.*': 'TURISMO'}, regex=True, inplace=True)\n",
    "\n",
    "\n",
    "\n",
    "df_UC['TIEMPO QUE LLEVA LABORANDO EN SU OFICIO ACTUAL'].fillna(df_UC['TIEMPO QUE LLEVA LABORANDO EN SU OFICIO ACTUAL'].mode().iloc[0], inplace=True)\n",
    "\n",
    "\n",
    "# Reemplazar valores según las especificaciones dadas\n",
    "df_UC['OFICIOS DESEMPEÑADOS ANTERIORMENTE'].replace({r'.*RECI.*': 'RECICLAJE',\n",
    "                                                      r'.*CONSTRUC.*': 'CONSTRUCCION', \n",
    "                                                      r'.*AMA E CASA.*': 'AMA DE CASA',\n",
    "                                                      r'.*DOCENTE.*': 'PROFESOR',\n",
    "                                                      r'.*ESTUDI.*': 'ESTUDIANTE',\n",
    "                                                      r'.*RESTAURANTE.*|.*COMIDAS.*|.*COCI.*': 'RESTAURANTE',\n",
    "                                                      r'.*TURIS.*': 'TURISMO',\n",
    "                                                      r'.*PESCA.*': 'PESCADOR',\n",
    "                                                      r'.*CIVIL.*': 'OBRA CIVIL',\n",
    "                                                      r'.*REFINER.*': 'REFINERÍA',\n",
    "                                                      0: 'NO APLICA/NO RESPONDE',\n",
    "                                                      pd.NA: 'NO APLICA/NO RESPONDE'}, regex=True, inplace=True)\n",
    "\n",
    "\n",
    "df_UC['USTED O ALGÚN MIEMBRO DE SU FAMILIA REALIZA QUEMA DE AMALGAMA EN CASA'].fillna(df_UC['USTED O ALGÚN MIEMBRO DE SU FAMILIA REALIZA QUEMA DE AMALGAMA EN CASA'].mode().iloc[0],inplace=True)\n",
    "\n",
    "\n",
    "df_UC['USTED O ALGÚN MIEMBRO DE SU FAMILIA QUE VIVA CON USTED ALMACENA MERCURIO EN CASA'].fillna(\"NO APLICA/NO RESPONDE\", inplace=True)\n",
    "\n",
    "\n",
    "df_UC['A QUE DISTANCIA SE ENCUENTRA UBICADA SU CASA DE LA COMPRAVENTA DE ORO O EL SITIO DONDE SE QUEMA LA AMALGAMA'].fillna(\"NO APLICA/NO RESPONDE\", inplace=True)"
   ]
  },
  {
   "cell_type": "code",
   "execution_count": 246,
   "metadata": {},
   "outputs": [],
   "source": [
    "# Concatenar verticalmente los tres DataFrames\n",
    "df_SM_full = pd.concat([df_SM001_A_SM189, df_SM190_a_SMBL255], ignore_index=True)"
   ]
  },
  {
   "cell_type": "code",
   "execution_count": 247,
   "metadata": {},
   "outputs": [],
   "source": [
    "# Concatenar verticalmente los tres DataFrames\n",
    "df_combined = pd.concat([df_SM001_A_SM189, df_SM190_a_SMBL255, df_UC], ignore_index=True)"
   ]
  },
  {
   "cell_type": "markdown",
   "metadata": {},
   "source": [
    "## Guardar DataFrames"
   ]
  },
  {
   "cell_type": "code",
   "execution_count": 248,
   "metadata": {},
   "outputs": [],
   "source": [
    "# Guardar los DataFrames como archivos CSV usando Pandas\n",
    "df_SM_full.to_csv('data/df_SM_full.csv', index=False)\n",
    "df_combined.to_csv('data/df_combined.csv', index=False)\n",
    "df_UC.to_csv('data/df_UC.csv', index=False)\n",
    "df_SM190_a_SMBL255.to_csv('data/df_SM190_a_SMBL255.csv', index=False)"
   ]
  }
 ],
 "metadata": {
  "kernelspec": {
   "display_name": "mlflow-env",
   "language": "python",
   "name": "python3"
  },
  "language_info": {
   "codemirror_mode": {
    "name": "ipython",
    "version": 3
   },
   "file_extension": ".py",
   "mimetype": "text/x-python",
   "name": "python",
   "nbconvert_exporter": "python",
   "pygments_lexer": "ipython3",
   "version": "3.9.17"
  }
 },
 "nbformat": 4,
 "nbformat_minor": 2
}
